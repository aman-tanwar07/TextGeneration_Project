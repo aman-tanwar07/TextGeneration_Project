{
 "cells": [
  {
   "cell_type": "code",
   "execution_count": 1,
   "id": "4244375c-daf4-41c1-a6dd-fd56842371df",
   "metadata": {},
   "outputs": [],
   "source": [
    "import torch\n",
    "import torch.nn.functional as F\n",
    "import matplotlib.pyplot as plt # for making figures\n",
    "%matplotlib inline"
   ]
  },
  {
   "cell_type": "code",
   "execution_count": 2,
   "id": "cdce419e-137a-4da4-8499-3f859e8cf930",
   "metadata": {},
   "outputs": [
    {
     "data": {
      "text/plain": [
       "['emma', 'olivia', 'ava', 'isabella', 'sophia', 'charlotte', 'mia', 'amelia']"
      ]
     },
     "execution_count": 2,
     "metadata": {},
     "output_type": "execute_result"
    }
   ],
   "source": [
    "# read in all the words\n",
    "words = open('names.txt', 'r').read().splitlines()\n",
    "words[:8]"
   ]
  },
  {
   "cell_type": "code",
   "execution_count": 3,
   "id": "b2e497a3-7e8b-4b3b-a7f2-0c58913a9b12",
   "metadata": {},
   "outputs": [
    {
     "data": {
      "text/plain": [
       "32033"
      ]
     },
     "execution_count": 3,
     "metadata": {},
     "output_type": "execute_result"
    }
   ],
   "source": [
    "len(words)"
   ]
  },
  {
   "cell_type": "code",
   "execution_count": 4,
   "id": "6576a7b8-3138-43a6-8a23-7413286deafb",
   "metadata": {},
   "outputs": [
    {
     "name": "stdout",
     "output_type": "stream",
     "text": [
      "{1: 'a', 2: 'b', 3: 'c', 4: 'd', 5: 'e', 6: 'f', 7: 'g', 8: 'h', 9: 'i', 10: 'j', 11: 'k', 12: 'l', 13: 'm', 14: 'n', 15: 'o', 16: 'p', 17: 'q', 18: 'r', 19: 's', 20: 't', 21: 'u', 22: 'v', 23: 'w', 24: 'x', 25: 'y', 26: 'z', 0: '.'}\n"
     ]
    }
   ],
   "source": [
    "# build the vocabulary of characters and mappings to/from integers\n",
    "chars = sorted(list(set(''.join(words))))\n",
    "stoi = {s:i+1 for i,s in enumerate(chars)}\n",
    "stoi['.'] = 0\n",
    "itos = {i:s for s,i in stoi.items()}\n",
    "print(itos)"
   ]
  },
  {
   "cell_type": "code",
   "execution_count": 5,
   "id": "97fbcfe0-5259-430e-bc97-ff201b2d3163",
   "metadata": {},
   "outputs": [
    {
     "name": "stdout",
     "output_type": "stream",
     "text": [
      "emma\n",
      "... ---> e\n",
      "..e ---> m\n",
      ".em ---> m\n",
      "emm ---> a\n",
      "mma ---> .\n",
      "olivia\n",
      "... ---> o\n",
      "..o ---> l\n",
      ".ol ---> i\n",
      "oli ---> v\n",
      "liv ---> i\n",
      "ivi ---> a\n",
      "via ---> .\n",
      "ava\n",
      "... ---> a\n",
      "..a ---> v\n",
      ".av ---> a\n",
      "ava ---> .\n",
      "isabella\n",
      "... ---> i\n",
      "..i ---> s\n",
      ".is ---> a\n",
      "isa ---> b\n",
      "sab ---> e\n",
      "abe ---> l\n",
      "bel ---> l\n",
      "ell ---> a\n",
      "lla ---> .\n",
      "sophia\n",
      "... ---> s\n",
      "..s ---> o\n",
      ".so ---> p\n",
      "sop ---> h\n",
      "oph ---> i\n",
      "phi ---> a\n",
      "hia ---> .\n"
     ]
    }
   ],
   "source": [
    "# build the dataset\n",
    "\n",
    "block_size = 3 # context length: how many characters do we take to predict the next one?\n",
    "X, Y = [], []\n",
    "for w in words[:5]:\n",
    "  \n",
    "  print(w)\n",
    "  context = [0] * block_size\n",
    "  for ch in w + '.':\n",
    "    ix = stoi[ch]\n",
    "    X.append(context)\n",
    "    Y.append(ix)\n",
    "    print(''.join(itos[i] for i in context), '--->', itos[ix])\n",
    "    context = context[1:] + [ix] # crop and append\n",
    "  \n",
    "X = torch.tensor(X)\n",
    "Y = torch.tensor(Y)"
   ]
  },
  {
   "cell_type": "code",
   "execution_count": 6,
   "id": "afb7a0da-8dbd-443a-94c3-19a0d983d3e4",
   "metadata": {},
   "outputs": [
    {
     "data": {
      "text/plain": [
       "(torch.Size([32, 3]), torch.int64, torch.Size([32]), torch.int64)"
      ]
     },
     "execution_count": 6,
     "metadata": {},
     "output_type": "execute_result"
    }
   ],
   "source": [
    "X.shape, X.dtype, Y.shape, Y.dtype\n"
   ]
  },
  {
   "cell_type": "code",
   "execution_count": 7,
   "id": "d687d403-6802-4524-90bb-0c480ddb6ea8",
   "metadata": {},
   "outputs": [
    {
     "data": {
      "text/plain": [
       "tensor([[ 0,  0,  0],\n",
       "        [ 0,  0,  5],\n",
       "        [ 0,  5, 13],\n",
       "        [ 5, 13, 13],\n",
       "        [13, 13,  1],\n",
       "        [ 0,  0,  0],\n",
       "        [ 0,  0, 15],\n",
       "        [ 0, 15, 12],\n",
       "        [15, 12,  9],\n",
       "        [12,  9, 22],\n",
       "        [ 9, 22,  9],\n",
       "        [22,  9,  1],\n",
       "        [ 0,  0,  0],\n",
       "        [ 0,  0,  1],\n",
       "        [ 0,  1, 22],\n",
       "        [ 1, 22,  1],\n",
       "        [ 0,  0,  0],\n",
       "        [ 0,  0,  9],\n",
       "        [ 0,  9, 19],\n",
       "        [ 9, 19,  1],\n",
       "        [19,  1,  2],\n",
       "        [ 1,  2,  5],\n",
       "        [ 2,  5, 12],\n",
       "        [ 5, 12, 12],\n",
       "        [12, 12,  1],\n",
       "        [ 0,  0,  0],\n",
       "        [ 0,  0, 19],\n",
       "        [ 0, 19, 15],\n",
       "        [19, 15, 16],\n",
       "        [15, 16,  8],\n",
       "        [16,  8,  9],\n",
       "        [ 8,  9,  1]])"
      ]
     },
     "execution_count": 7,
     "metadata": {},
     "output_type": "execute_result"
    }
   ],
   "source": [
    "X"
   ]
  },
  {
   "cell_type": "code",
   "execution_count": 8,
   "id": "e4fe04b8-70f3-402a-a4ba-99adfc6e85e3",
   "metadata": {},
   "outputs": [
    {
     "data": {
      "text/plain": [
       "tensor([ 5, 13, 13,  1,  0, 15, 12,  9, 22,  9,  1,  0,  1, 22,  1,  0,  9, 19,\n",
       "         1,  2,  5, 12, 12,  1,  0, 19, 15, 16,  8,  9,  1,  0])"
      ]
     },
     "execution_count": 8,
     "metadata": {},
     "output_type": "execute_result"
    }
   ],
   "source": [
    "Y"
   ]
  },
  {
   "cell_type": "code",
   "execution_count": 9,
   "id": "c9c3b3b8-f07e-4b4e-b734-45973c162488",
   "metadata": {},
   "outputs": [
    {
     "data": {
      "image/png": "[encoded data removed]",
      "text/plain": [
       "<PIL.PngImagePlugin.PngImageFile image mode=RGBA size=487x522>"
      ]
     },
     "metadata": {},
     "output_type": "display_data"
    }
   ],
   "source": [
    "from PIL import Image \n",
    "from IPython.display import display\n",
    "img = Image. open('Screenshot 2024-08-27 192353.png')\n",
    "display(img)\n",
    "\n",
    "#This is the MLP structure which we are trying to implement"
   ]
  },
  {
   "cell_type": "code",
   "execution_count": 10,
   "id": "1adc327c-e014-4043-abe8-ec377fd50e6b",
   "metadata": {},
   "outputs": [
    {
     "data": {
      "text/plain": [
       "tensor([-0.7527,  0.4562])"
      ]
     },
     "execution_count": 10,
     "metadata": {},
     "output_type": "execute_result"
    }
   ],
   "source": [
    "C=torch.randn((27,2)) # 27 characters, embedding size 2\n",
    "C[4]"
   ]
  },
  {
   "cell_type": "code",
   "execution_count": 11,
   "id": "18504ceb-70bb-457c-bd7d-765bd977ef77",
   "metadata": {},
   "outputs": [
    {
     "data": {
      "text/plain": [
       "tensor([[ 0.2928,  1.1486],\n",
       "        [-0.7527,  0.4562],\n",
       "        [ 0.0778, -0.4847],\n",
       "        [-1.4272,  0.4930]])"
      ]
     },
     "execution_count": 11,
     "metadata": {},
     "output_type": "execute_result"
    }
   ],
   "source": [
    "C[[3,4,5,6]]"
   ]
  },
  {
   "cell_type": "code",
   "execution_count": 12,
   "id": "5f3ce2d2-9429-47ae-9060-7212635cf979",
   "metadata": {},
   "outputs": [
    {
     "data": {
      "text/plain": [
       "torch.float32"
      ]
     },
     "execution_count": 12,
     "metadata": {},
     "output_type": "execute_result"
    }
   ],
   "source": [
    "C.dtype"
   ]
  },
  {
   "cell_type": "code",
   "execution_count": 13,
   "id": "d0a0831c-e194-4378-91be-c65331be0d13",
   "metadata": {},
   "outputs": [
    {
     "data": {
      "text/plain": [
       "tensor([[ 0.2928,  1.1486],\n",
       "        [-0.7527,  0.4562],\n",
       "        [ 0.0778, -0.4847],\n",
       "        [-1.4272,  0.4930]])"
      ]
     },
     "execution_count": 13,
     "metadata": {},
     "output_type": "execute_result"
    }
   ],
   "source": [
    "C[torch.tensor([3,4,5,6])]"
   ]
  },
  {
   "cell_type": "code",
   "execution_count": 14,
   "id": "16da800b-8447-4d4e-b809-1e1e40fe8103",
   "metadata": {
    "scrolled": true
   },
   "outputs": [
    {
     "data": {
      "text/plain": [
       "tensor([[[-0.0854, -0.0690],\n",
       "         [-0.0854, -0.0690],\n",
       "         [-0.0854, -0.0690]],\n",
       "\n",
       "        [[-0.0854, -0.0690],\n",
       "         [-0.0854, -0.0690],\n",
       "         [ 0.0778, -0.4847]],\n",
       "\n",
       "        [[-0.0854, -0.0690],\n",
       "         [ 0.0778, -0.4847],\n",
       "         [ 1.6267, -0.5798]],\n",
       "\n",
       "        [[ 0.0778, -0.4847],\n",
       "         [ 1.6267, -0.5798],\n",
       "         [ 1.6267, -0.5798]],\n",
       "\n",
       "        [[ 1.6267, -0.5798],\n",
       "         [ 1.6267, -0.5798],\n",
       "         [ 0.4442, -0.3313]],\n",
       "\n",
       "        [[-0.0854, -0.0690],\n",
       "         [-0.0854, -0.0690],\n",
       "         [-0.0854, -0.0690]],\n",
       "\n",
       "        [[-0.0854, -0.0690],\n",
       "         [-0.0854, -0.0690],\n",
       "         [-0.1908, -1.7824]],\n",
       "\n",
       "        [[-0.0854, -0.0690],\n",
       "         [-0.1908, -1.7824],\n",
       "         [ 0.9398, -0.7825]],\n",
       "\n",
       "        [[-0.1908, -1.7824],\n",
       "         [ 0.9398, -0.7825],\n",
       "         [ 0.3908, -0.8880]],\n",
       "\n",
       "        [[ 0.9398, -0.7825],\n",
       "         [ 0.3908, -0.8880],\n",
       "         [-0.1542,  0.5263]],\n",
       "\n",
       "        [[ 0.3908, -0.8880],\n",
       "         [-0.1542,  0.5263],\n",
       "         [ 0.3908, -0.8880]],\n",
       "\n",
       "        [[-0.1542,  0.5263],\n",
       "         [ 0.3908, -0.8880],\n",
       "         [ 0.4442, -0.3313]],\n",
       "\n",
       "        [[-0.0854, -0.0690],\n",
       "         [-0.0854, -0.0690],\n",
       "         [-0.0854, -0.0690]],\n",
       "\n",
       "        [[-0.0854, -0.0690],\n",
       "         [-0.0854, -0.0690],\n",
       "         [ 0.4442, -0.3313]],\n",
       "\n",
       "        [[-0.0854, -0.0690],\n",
       "         [ 0.4442, -0.3313],\n",
       "         [-0.1542,  0.5263]],\n",
       "\n",
       "        [[ 0.4442, -0.3313],\n",
       "         [-0.1542,  0.5263],\n",
       "         [ 0.4442, -0.3313]],\n",
       "\n",
       "        [[-0.0854, -0.0690],\n",
       "         [-0.0854, -0.0690],\n",
       "         [-0.0854, -0.0690]],\n",
       "\n",
       "        [[-0.0854, -0.0690],\n",
       "         [-0.0854, -0.0690],\n",
       "         [ 0.3908, -0.8880]],\n",
       "\n",
       "        [[-0.0854, -0.0690],\n",
       "         [ 0.3908, -0.8880],\n",
       "         [ 1.3116,  2.0983]],\n",
       "\n",
       "        [[ 0.3908, -0.8880],\n",
       "         [ 1.3116,  2.0983],\n",
       "         [ 0.4442, -0.3313]],\n",
       "\n",
       "        [[ 1.3116,  2.0983],\n",
       "         [ 0.4442, -0.3313],\n",
       "         [ 1.4224, -0.0265]],\n",
       "\n",
       "        [[ 0.4442, -0.3313],\n",
       "         [ 1.4224, -0.0265],\n",
       "         [ 0.0778, -0.4847]],\n",
       "\n",
       "        [[ 1.4224, -0.0265],\n",
       "         [ 0.0778, -0.4847],\n",
       "         [ 0.9398, -0.7825]],\n",
       "\n",
       "        [[ 0.0778, -0.4847],\n",
       "         [ 0.9398, -0.7825],\n",
       "         [ 0.9398, -0.7825]],\n",
       "\n",
       "        [[ 0.9398, -0.7825],\n",
       "         [ 0.9398, -0.7825],\n",
       "         [ 0.4442, -0.3313]],\n",
       "\n",
       "        [[-0.0854, -0.0690],\n",
       "         [-0.0854, -0.0690],\n",
       "         [-0.0854, -0.0690]],\n",
       "\n",
       "        [[-0.0854, -0.0690],\n",
       "         [-0.0854, -0.0690],\n",
       "         [ 1.3116,  2.0983]],\n",
       "\n",
       "        [[-0.0854, -0.0690],\n",
       "         [ 1.3116,  2.0983],\n",
       "         [-0.1908, -1.7824]],\n",
       "\n",
       "        [[ 1.3116,  2.0983],\n",
       "         [-0.1908, -1.7824],\n",
       "         [-0.4423,  0.0664]],\n",
       "\n",
       "        [[-0.1908, -1.7824],\n",
       "         [-0.4423,  0.0664],\n",
       "         [ 0.0703,  0.3927]],\n",
       "\n",
       "        [[-0.4423,  0.0664],\n",
       "         [ 0.0703,  0.3927],\n",
       "         [ 0.3908, -0.8880]],\n",
       "\n",
       "        [[ 0.0703,  0.3927],\n",
       "         [ 0.3908, -0.8880],\n",
       "         [ 0.4442, -0.3313]]])"
      ]
     },
     "execution_count": 14,
     "metadata": {},
     "output_type": "execute_result"
    }
   ],
   "source": [
    "C[X] "
   ]
  },
  {
   "cell_type": "code",
   "execution_count": 15,
   "id": "7d986336-fb75-42be-8c35-134f7c94e257",
   "metadata": {},
   "outputs": [
    {
     "data": {
      "text/plain": [
       "tensor(9)"
      ]
     },
     "execution_count": 15,
     "metadata": {},
     "output_type": "execute_result"
    }
   ],
   "source": [
    "X[9,1]"
   ]
  },
  {
   "cell_type": "code",
   "execution_count": 16,
   "id": "256c90bd-934b-4b74-8e1b-b2859d61f978",
   "metadata": {},
   "outputs": [
    {
     "data": {
      "text/plain": [
       "tensor([ 0.3908, -0.8880])"
      ]
     },
     "execution_count": 16,
     "metadata": {},
     "output_type": "execute_result"
    }
   ],
   "source": [
    "C[X[9,1]]"
   ]
  },
  {
   "cell_type": "code",
   "execution_count": 17,
   "id": "74b12bea-3083-4066-9da3-de3be79cdda2",
   "metadata": {},
   "outputs": [
    {
     "data": {
      "text/plain": [
       "torch.Size([32, 3, 2])"
      ]
     },
     "execution_count": 17,
     "metadata": {},
     "output_type": "execute_result"
    }
   ],
   "source": [
    "emb = C[X] # Convert input indices into embeddings\n",
    "emb.shape"
   ]
  },
  {
   "cell_type": "code",
   "execution_count": 18,
   "id": "c5ab3ce0-024c-4af3-aa36-81afd1cb9621",
   "metadata": {},
   "outputs": [],
   "source": [
    "W1= torch.randn(6,100)\n",
    "b1= torch.randn(100)"
   ]
  },
  {
   "cell_type": "code",
   "execution_count": 19,
   "id": "736f031e-a9c0-40fd-a419-daeeb5877e33",
   "metadata": {},
   "outputs": [],
   "source": [
    "# the shape here is (228146, 3,2)\n",
    "#and in the first layer we need to perform the following operation : emb@W1 +b1\n",
    "# because W1 is 2 dimension so matrix multipliaction of that wont be possible\n",
    "# so we need to convert that into same dimension"
   ]
  },
  {
   "cell_type": "code",
   "execution_count": 20,
   "id": "dec30232-d3ae-4d7d-a48d-784aee7f2639",
   "metadata": {},
   "outputs": [],
   "source": [
    "#torch.cat([emb[:, 0, :], emb[:, 1, :], emb[:, 2, :]], 1).shape\n",
    "#we can do it like this or we have another method too using unbind to remove a dimension"
   ]
  },
  {
   "cell_type": "code",
   "execution_count": 21,
   "id": "5b39e68a-229a-4e7e-8685-c1fa0a90caa2",
   "metadata": {},
   "outputs": [
    {
     "data": {
      "text/plain": [
       "tensor([[-0.0854, -0.0690, -0.0854, -0.0690, -0.0854, -0.0690],\n",
       "        [-0.0854, -0.0690, -0.0854, -0.0690,  0.0778, -0.4847],\n",
       "        [-0.0854, -0.0690,  0.0778, -0.4847,  1.6267, -0.5798],\n",
       "        [ 0.0778, -0.4847,  1.6267, -0.5798,  1.6267, -0.5798],\n",
       "        [ 1.6267, -0.5798,  1.6267, -0.5798,  0.4442, -0.3313],\n",
       "        [-0.0854, -0.0690, -0.0854, -0.0690, -0.0854, -0.0690],\n",
       "        [-0.0854, -0.0690, -0.0854, -0.0690, -0.1908, -1.7824],\n",
       "        [-0.0854, -0.0690, -0.1908, -1.7824,  0.9398, -0.7825],\n",
       "        [-0.1908, -1.7824,  0.9398, -0.7825,  0.3908, -0.8880],\n",
       "        [ 0.9398, -0.7825,  0.3908, -0.8880, -0.1542,  0.5263],\n",
       "        [ 0.3908, -0.8880, -0.1542,  0.5263,  0.3908, -0.8880],\n",
       "        [-0.1542,  0.5263,  0.3908, -0.8880,  0.4442, -0.3313],\n",
       "        [-0.0854, -0.0690, -0.0854, -0.0690, -0.0854, -0.0690],\n",
       "        [-0.0854, -0.0690, -0.0854, -0.0690,  0.4442, -0.3313],\n",
       "        [-0.0854, -0.0690,  0.4442, -0.3313, -0.1542,  0.5263],\n",
       "        [ 0.4442, -0.3313, -0.1542,  0.5263,  0.4442, -0.3313],\n",
       "        [-0.0854, -0.0690, -0.0854, -0.0690, -0.0854, -0.0690],\n",
       "        [-0.0854, -0.0690, -0.0854, -0.0690,  0.3908, -0.8880],\n",
       "        [-0.0854, -0.0690,  0.3908, -0.8880,  1.3116,  2.0983],\n",
       "        [ 0.3908, -0.8880,  1.3116,  2.0983,  0.4442, -0.3313],\n",
       "        [ 1.3116,  2.0983,  0.4442, -0.3313,  1.4224, -0.0265],\n",
       "        [ 0.4442, -0.3313,  1.4224, -0.0265,  0.0778, -0.4847],\n",
       "        [ 1.4224, -0.0265,  0.0778, -0.4847,  0.9398, -0.7825],\n",
       "        [ 0.0778, -0.4847,  0.9398, -0.7825,  0.9398, -0.7825],\n",
       "        [ 0.9398, -0.7825,  0.9398, -0.7825,  0.4442, -0.3313],\n",
       "        [-0.0854, -0.0690, -0.0854, -0.0690, -0.0854, -0.0690],\n",
       "        [-0.0854, -0.0690, -0.0854, -0.0690,  1.3116,  2.0983],\n",
       "        [-0.0854, -0.0690,  1.3116,  2.0983, -0.1908, -1.7824],\n",
       "        [ 1.3116,  2.0983, -0.1908, -1.7824, -0.4423,  0.0664],\n",
       "        [-0.1908, -1.7824, -0.4423,  0.0664,  0.0703,  0.3927],\n",
       "        [-0.4423,  0.0664,  0.0703,  0.3927,  0.3908, -0.8880],\n",
       "        [ 0.0703,  0.3927,  0.3908, -0.8880,  0.4442, -0.3313]])"
      ]
     },
     "execution_count": 21,
     "metadata": {},
     "output_type": "execute_result"
    }
   ],
   "source": [
    "torch.cat(torch.unbind(emb, 1), 1)"
   ]
  },
  {
   "cell_type": "code",
   "execution_count": 22,
   "id": "ce961be8-c1f7-4459-a5c5-869c6347c538",
   "metadata": {},
   "outputs": [
    {
     "data": {
      "text/plain": [
       "torch.Size([32, 6])"
      ]
     },
     "execution_count": 22,
     "metadata": {},
     "output_type": "execute_result"
    }
   ],
   "source": [
    "torch.cat(torch.unbind(emb, 1), 1).shape"
   ]
  },
  {
   "cell_type": "code",
   "execution_count": 23,
   "id": "f8882b35-8999-489b-8bf0-1f9ce1ef25e5",
   "metadata": {},
   "outputs": [
    {
     "data": {
      "text/plain": [
       "tensor([ 0,  1,  2,  3,  4,  5,  6,  7,  8,  9, 10, 11, 12, 13, 14, 15, 16, 17,\n",
       "        18, 19, 20])"
      ]
     },
     "execution_count": 23,
     "metadata": {},
     "output_type": "execute_result"
    }
   ],
   "source": [
    "# VIEW operation in pytorch\n",
    "a= torch.arange(21)\n",
    "a"
   ]
  },
  {
   "cell_type": "code",
   "execution_count": 24,
   "id": "1dd714de-6f08-4164-9c55-9866dc4a6886",
   "metadata": {},
   "outputs": [
    {
     "data": {
      "text/plain": [
       "torch.Size([21])"
      ]
     },
     "execution_count": 24,
     "metadata": {},
     "output_type": "execute_result"
    }
   ],
   "source": [
    "a.shape"
   ]
  },
  {
   "cell_type": "code",
   "execution_count": 25,
   "id": "e086cd35-b5b6-49ea-b93d-26507efd24e4",
   "metadata": {},
   "outputs": [
    {
     "data": {
      "text/plain": [
       "tensor([[ 0,  1,  2],\n",
       "        [ 3,  4,  5],\n",
       "        [ 6,  7,  8],\n",
       "        [ 9, 10, 11],\n",
       "        [12, 13, 14],\n",
       "        [15, 16, 17],\n",
       "        [18, 19, 20]])"
      ]
     },
     "execution_count": 25,
     "metadata": {},
     "output_type": "execute_result"
    }
   ],
   "source": [
    "a.view(7,3)"
   ]
  },
  {
   "cell_type": "code",
   "execution_count": 26,
   "id": "40d766f3-40f2-48d9-aaf7-f9f4e3c727c8",
   "metadata": {},
   "outputs": [
    {
     "data": {
      "text/plain": [
       "tensor([[ 0,  1,  2,  3,  4,  5,  6],\n",
       "        [ 7,  8,  9, 10, 11, 12, 13],\n",
       "        [14, 15, 16, 17, 18, 19, 20]])"
      ]
     },
     "execution_count": 26,
     "metadata": {},
     "output_type": "execute_result"
    }
   ],
   "source": [
    "a.view(3,7)"
   ]
  },
  {
   "cell_type": "code",
   "execution_count": 27,
   "id": "4b7976a1-debb-4dba-b197-a7abb48f4849",
   "metadata": {},
   "outputs": [],
   "source": [
    "#emb.view(10, 6)"
   ]
  },
  {
   "cell_type": "code",
   "execution_count": 28,
   "id": "5aba9e3c-7240-465d-bc5c-40308707eb22",
   "metadata": {},
   "outputs": [],
   "source": [
    "#h=emb.view(10, 6)@W1 +b1"
   ]
  },
  {
   "cell_type": "code",
   "execution_count": 29,
   "id": "acdfaacc-85fc-48fd-8bcc-9d0718a9c386",
   "metadata": {
    "scrolled": true
   },
   "outputs": [],
   "source": [
    "#h"
   ]
  },
  {
   "cell_type": "code",
   "execution_count": 30,
   "id": "246cb6c3-4180-4ded-bfec-dee3a774bf37",
   "metadata": {},
   "outputs": [],
   "source": [
    "#h=emb.view(emb.shape[0], 6)@W1 +b1 or h=emb.view(-1, 6)@W1 +b1\n",
    "# the above is to write a general code and to not hard code it\n",
    "\n"
   ]
  },
  {
   "cell_type": "code",
   "execution_count": 31,
   "id": "8df829f9-f08a-433d-857c-8f1999a353ec",
   "metadata": {},
   "outputs": [],
   "source": [
    "#h.shape"
   ]
  },
  {
   "cell_type": "code",
   "execution_count": 32,
   "id": "7a1af7e9-be65-480a-9e81-9ee78ee1f1f3",
   "metadata": {},
   "outputs": [
    {
     "data": {
      "text/plain": [
       "torch.Size([32, 100])"
      ]
     },
     "execution_count": 32,
     "metadata": {},
     "output_type": "execute_result"
    }
   ],
   "source": [
    "(emb.view(-1,6)@ W1).shape"
   ]
  },
  {
   "cell_type": "code",
   "execution_count": 33,
   "id": "899ebc78-3a41-4a18-81a2-a85e8054060f",
   "metadata": {},
   "outputs": [
    {
     "data": {
      "text/plain": [
       "torch.Size([100])"
      ]
     },
     "execution_count": 33,
     "metadata": {},
     "output_type": "execute_result"
    }
   ],
   "source": [
    "b1.shape"
   ]
  },
  {
   "cell_type": "code",
   "execution_count": 34,
   "id": "4728668e-b895-4715-89f8-99d453538f3f",
   "metadata": {},
   "outputs": [],
   "source": [
    "# 228146, 100\n",
    "#      1, 100"
   ]
  },
  {
   "cell_type": "code",
   "execution_count": 35,
   "id": "b0623fc6-4b6b-40a7-b98a-b3922607c574",
   "metadata": {},
   "outputs": [],
   "source": [
    "W2= torch.randn(100,27) # input now is 100 and output no of neurons is 27 \n",
    "#because there are 27 possible next character\n",
    "b2= torch.randn(27)"
   ]
  },
  {
   "cell_type": "code",
   "execution_count": 36,
   "id": "98408aa6-b0c7-46e2-9405-ac0b39062e09",
   "metadata": {},
   "outputs": [],
   "source": [
    "#logits = h @ W2+b2"
   ]
  },
  {
   "cell_type": "code",
   "execution_count": 37,
   "id": "5d7c456c-2a7c-41a4-b50b-3c9d4d816b19",
   "metadata": {},
   "outputs": [],
   "source": [
    "#counts = logits.exp()"
   ]
  },
  {
   "cell_type": "code",
   "execution_count": 38,
   "id": "c6950a2a-b90b-4a3f-b701-2253bda713d7",
   "metadata": {},
   "outputs": [],
   "source": [
    "#prob= counts / counts.sum(1, keepdims= True)"
   ]
  },
  {
   "cell_type": "code",
   "execution_count": 39,
   "id": "1b40f84d-9b0a-4248-9429-2d95b142f251",
   "metadata": {},
   "outputs": [],
   "source": [
    "#prob.shape"
   ]
  },
  {
   "cell_type": "code",
   "execution_count": 40,
   "id": "b9a5b39b-01ca-4538-ab5b-7b98abc41e8b",
   "metadata": {},
   "outputs": [],
   "source": [
    "#prob[0].sum()"
   ]
  },
  {
   "cell_type": "code",
   "execution_count": null,
   "id": "81b5b51f-ec02-4daf-a379-b8296ce75768",
   "metadata": {},
   "outputs": [],
   "source": []
  },
  {
   "cell_type": "code",
   "execution_count": 41,
   "id": "b74e892f-e70a-43d4-83c8-6d61b1a3a770",
   "metadata": {},
   "outputs": [
    {
     "data": {
      "text/plain": [
       "tensor([ 5, 13, 13,  1,  0, 15, 12,  9, 22,  9,  1,  0,  1, 22,  1,  0,  9, 19,\n",
       "         1,  2,  5, 12, 12,  1,  0, 19, 15, 16,  8,  9,  1,  0])"
      ]
     },
     "execution_count": 41,
     "metadata": {},
     "output_type": "execute_result"
    }
   ],
   "source": [
    "Y"
   ]
  },
  {
   "cell_type": "code",
   "execution_count": 128,
   "id": "2dd0de07-0b52-4b93-ab04-c5409c68be55",
   "metadata": {},
   "outputs": [],
   "source": [
    "#prob[torch.arange(prob.shape[0]), Y]"
   ]
  },
  {
   "cell_type": "code",
   "execution_count": 43,
   "id": "e14151c0-5b83-4265-bed0-dfc9a2698904",
   "metadata": {},
   "outputs": [],
   "source": [
    "# NEGATIVE LOG LIKELIHOOD"
   ]
  },
  {
   "cell_type": "code",
   "execution_count": 130,
   "id": "5d3b03e3-2dd7-4c93-9569-7798e8cb7e69",
   "metadata": {},
   "outputs": [],
   "source": [
    "#loss= -prob[torch.arange(prob.shape[0]), Y].log().mean()"
   ]
  },
  {
   "cell_type": "code",
   "execution_count": 129,
   "id": "6a43628e-2064-43ef-8299-a65d74029494",
   "metadata": {},
   "outputs": [],
   "source": [
    "#loss"
   ]
  },
  {
   "cell_type": "code",
   "execution_count": 46,
   "id": "f765f4e5-57a4-4560-8be8-367c48cb05c5",
   "metadata": {},
   "outputs": [],
   "source": [
    "#Combining the code and making it easy to read :\n"
   ]
  },
  {
   "cell_type": "code",
   "execution_count": 47,
   "id": "8e033287-2b41-4db9-ad22-de830046c21c",
   "metadata": {},
   "outputs": [
    {
     "data": {
      "text/plain": [
       "(torch.Size([32, 3]), torch.Size([32]))"
      ]
     },
     "execution_count": 47,
     "metadata": {},
     "output_type": "execute_result"
    }
   ],
   "source": [
    "X.shape, Y.shape #dataset"
   ]
  },
  {
   "cell_type": "code",
   "execution_count": 48,
   "id": "e5347ac7-5005-480b-98b9-85915e7f7a5c",
   "metadata": {},
   "outputs": [],
   "source": [
    "g = torch.Generator().manual_seed(2147483647) # for reproducibility\n",
    "C = torch.randn((27, 2), generator=g)\n",
    "W1 = torch.randn((6, 100), generator=g) # 6 input features, 100 neurons in hidden layer\n",
    "b1 = torch.randn(100, generator=g)\n",
    "W2 = torch.randn((100, 27), generator=g) # 100 neurons to 27 output classes\n",
    "b2 = torch.randn(27, generator=g)\n",
    "parameters = [C, W1, b1, W2, b2]\n"
   ]
  },
  {
   "cell_type": "code",
   "execution_count": 49,
   "id": "a1c49e49-e2ee-4792-9973-885f1a027024",
   "metadata": {},
   "outputs": [
    {
     "data": {
      "text/plain": [
       "3481"
      ]
     },
     "execution_count": 49,
     "metadata": {},
     "output_type": "execute_result"
    }
   ],
   "source": [
    "sum(p.nelement() for p in parameters) \n",
    "#number of parameters in total"
   ]
  },
  {
   "cell_type": "code",
   "execution_count": 50,
   "id": "8974eb29-c2e3-436e-9a25-8654c5ca80f1",
   "metadata": {},
   "outputs": [
    {
     "data": {
      "text/plain": [
       "tensor(17.7697)"
      ]
     },
     "execution_count": 50,
     "metadata": {},
     "output_type": "execute_result"
    }
   ],
   "source": [
    "emb= C[X]\n",
    "h= torch.tanh(emb.view(-1, 6) @ W1 + b1) # Hidden layer with tanh activation\n",
    "logits = h @ W2 + b2 # Output layer\n",
    "counts = logits.exp()\n",
    "prob = counts / counts.sum(1, keepdims = True)\n",
    "loss = -prob[torch.arange(prob.shape[0]), Y].log().mean()\n",
    "loss"
   ]
  },
  {
   "cell_type": "code",
   "execution_count": null,
   "id": "2280f02f-12bc-49af-b335-43802db7e843",
   "metadata": {},
   "outputs": [],
   "source": []
  },
  {
   "cell_type": "code",
   "execution_count": 51,
   "id": "15a60f55-a15d-4de8-badd-0eede9ce2b4b",
   "metadata": {},
   "outputs": [
    {
     "data": {
      "text/plain": [
       "tensor(17.7697)"
      ]
     },
     "execution_count": 51,
     "metadata": {},
     "output_type": "execute_result"
    }
   ],
   "source": [
    "#cross entropy in pytorch\n",
    "F.cross_entropy(logits, Y)\n",
    "# THIS gives the same result as the loss we calculated above\n",
    "#cross entropy is more efficient coz much less mathematical operations under the hood\n",
    "#numerically well behaved \n",
    "#for example if logits are too large , it can lead the output to infinity\n",
    "#and cross entropy handles it well\n"
   ]
  },
  {
   "cell_type": "code",
   "execution_count": 52,
   "id": "f3097614-ce40-4a05-ade1-7999ce5d1fcc",
   "metadata": {},
   "outputs": [
    {
     "data": {
      "text/plain": [
       "tensor(17.7697)"
      ]
     },
     "execution_count": 52,
     "metadata": {},
     "output_type": "execute_result"
    }
   ],
   "source": [
    "emb= C[X]\n",
    "h= torch.tanh(emb.view(-1, 6) @ W1 + b1)\n",
    "logits = h @ W2 + b2 \n",
    "#counts = logits.exp()\n",
    "#prob = counts / counts.sum(1, keepdims = True)\n",
    "#loss = -prob[torch.arange(prob.shape[0]), Y].log().mean()\n",
    "F.cross_entropy(logits, Y)\n",
    "loss"
   ]
  },
  {
   "cell_type": "code",
   "execution_count": 53,
   "id": "0ccb1d12-469f-4b82-9ea6-df40809055fe",
   "metadata": {},
   "outputs": [],
   "source": [
    "for p in parameters:\n",
    "    p.requires_grad = True"
   ]
  },
  {
   "cell_type": "code",
   "execution_count": 54,
   "id": "7e29196b-79b5-4e60-99be-ec05cabe89eb",
   "metadata": {},
   "outputs": [
    {
     "name": "stdout",
     "output_type": "stream",
     "text": [
      "0.25615179538726807\n"
     ]
    }
   ],
   "source": [
    "for _ in range(1000):\n",
    "    #forward pass\n",
    "    emb= C[X]\n",
    "    h= torch.tanh(emb.view(-1, 6) @ W1 + b1)\n",
    "    logits = h @ W2 + b2 \n",
    "    loss=F.cross_entropy(logits, Y)\n",
    "    \n",
    "    #backward pass\n",
    "    for p in parameters:\n",
    "        p.grad = None\n",
    "    loss.backward()\n",
    "    #update\n",
    "    for p in parameters:\n",
    "        p.data += -0.1 * p.grad\n",
    "\n",
    "print(loss.item())"
   ]
  },
  {
   "cell_type": "code",
   "execution_count": null,
   "id": "18bdaf11-1e10-478e-ba51-de809ca68caf",
   "metadata": {},
   "outputs": [],
   "source": []
  },
  {
   "cell_type": "code",
   "execution_count": 55,
   "id": "192a47a0-cbb2-43c7-bb7b-bcf6988bcc85",
   "metadata": {},
   "outputs": [],
   "source": [
    "# Proper code with complete data set\n",
    "# build the dataset\n",
    "\n",
    "block_size = 3 # context length: how many characters do we take to predict the next one?\n",
    "X, Y = [], []\n",
    "for w in words:\n",
    "  \n",
    " # print(w)\n",
    "  context = [0] * block_size\n",
    "  for ch in w + '.':\n",
    "    ix = stoi[ch]\n",
    "    X.append(context)\n",
    "    Y.append(ix)\n",
    "   # print(''.join(itos[i] for i in context), '--->', itos[ix])\n",
    "    context = context[1:] + [ix] # crop and append\n",
    "  \n",
    "X = torch.tensor(X)\n",
    "Y = torch.tensor(Y)"
   ]
  },
  {
   "cell_type": "code",
   "execution_count": 56,
   "id": "2403cc53-da47-4cd7-9507-ceb01c87c98f",
   "metadata": {},
   "outputs": [
    {
     "data": {
      "text/plain": [
       "(torch.Size([228146, 3]), torch.int64, torch.Size([228146]), torch.int64)"
      ]
     },
     "execution_count": 56,
     "metadata": {},
     "output_type": "execute_result"
    }
   ],
   "source": [
    "X.shape, X.dtype, Y.shape, Y.dtype\n"
   ]
  },
  {
   "cell_type": "code",
   "execution_count": 57,
   "id": "2fe5d70c-1787-4022-a806-0221fc0823a4",
   "metadata": {},
   "outputs": [],
   "source": [
    "g = torch.Generator().manual_seed(2147483647) # for reproducibility\n",
    "C = torch.randn((27, 2), generator=g)\n",
    "W1 = torch.randn((6, 100), generator=g)\n",
    "b1 = torch.randn(100, generator=g)\n",
    "W2 = torch.randn((100, 27), generator=g)\n",
    "b2 = torch.randn(27, generator=g)\n",
    "parameters = [C, W1, b1, W2, b2]"
   ]
  },
  {
   "cell_type": "code",
   "execution_count": 58,
   "id": "b0e4666e-826f-43c3-a7d4-5dbade49cad8",
   "metadata": {},
   "outputs": [
    {
     "data": {
      "text/plain": [
       "3481"
      ]
     },
     "execution_count": 58,
     "metadata": {},
     "output_type": "execute_result"
    }
   ],
   "source": [
    "sum(p.nelement() for p in parameters) \n",
    "#number of parameters in total"
   ]
  },
  {
   "cell_type": "code",
   "execution_count": 59,
   "id": "99f2b516-4cd2-4f72-b01f-d19901577ab4",
   "metadata": {},
   "outputs": [],
   "source": [
    "for p in parameters:\n",
    "    p.requires_grad = True"
   ]
  },
  {
   "cell_type": "code",
   "execution_count": 60,
   "id": "3d0fc992-ce78-4705-bf4a-4a249eba93e5",
   "metadata": {
    "scrolled": true
   },
   "outputs": [
    {
     "name": "stdout",
     "output_type": "stream",
     "text": [
      "19.505229949951172\n",
      "17.08448600769043\n",
      "15.776532173156738\n",
      "14.833341598510742\n",
      "14.002608299255371\n",
      "13.253263473510742\n",
      "12.57991886138916\n",
      "11.983102798461914\n",
      "11.47049331665039\n",
      "11.05185604095459\n"
     ]
    }
   ],
   "source": [
    "for _ in range(10):\n",
    "    #forward pass\n",
    "    emb= C[X]\n",
    "    h= torch.tanh(emb.view(-1, 6) @ W1 + b1)\n",
    "    logits = h @ W2 + b2 \n",
    "    loss=F.cross_entropy(logits, Y)\n",
    "    print(loss.item())\n",
    "    #backward pass\n",
    "    for p in parameters:\n",
    "        p.grad = None\n",
    "    loss.backward()\n",
    "    #update\n",
    "    for p in parameters:\n",
    "        p.data += -0.1 * p.grad\n",
    "\n"
   ]
  },
  {
   "cell_type": "code",
   "execution_count": 61,
   "id": "0c17a7b5-e0b1-4fa1-9d9f-39c851067d2f",
   "metadata": {},
   "outputs": [],
   "source": [
    "#mini batches"
   ]
  },
  {
   "cell_type": "code",
   "execution_count": 62,
   "id": "daaa6b62-fb82-43a0-8518-0c3015627afb",
   "metadata": {},
   "outputs": [
    {
     "data": {
      "text/plain": [
       "tensor([195742, 131470, 213936, 117434, 170317, 101717, 224583, 116973, 152966,\n",
       "        114939,  23477,  39697, 101712,  80361,  74407, 161189,  82315,  41711,\n",
       "        213219, 220512, 144337,  48099,  23372, 213355, 156618, 122566, 181946,\n",
       "         17797,  44636, 163650, 149001, 210183])"
      ]
     },
     "execution_count": 62,
     "metadata": {},
     "output_type": "execute_result"
    }
   ],
   "source": [
    "torch.randint(0,X.shape[0],(32,)) #generate number between 0 and X shape[0] and 32 of them"
   ]
  },
  {
   "cell_type": "code",
   "execution_count": 63,
   "id": "f54c32a7-5b06-47e1-99d7-d86a581d98ba",
   "metadata": {},
   "outputs": [
    {
     "name": "stdout",
     "output_type": "stream",
     "text": [
      "2.7924959659576416\n"
     ]
    }
   ],
   "source": [
    "for _ in range(1000):\n",
    "\n",
    "    #minibacth construct\n",
    "    ix = torch.randint(0,X.shape[0],(32,))\n",
    "    #forward pass\n",
    "    emb= C[X[ix]]\n",
    "    h= torch.tanh(emb.view(-1, 6) @ W1 + b1)\n",
    "    logits = h @ W2 + b2 \n",
    "    loss=F.cross_entropy(logits, Y[ix])\n",
    "    \n",
    "    #backward pass\n",
    "    for p in parameters:\n",
    "        p.grad = None\n",
    "    loss.backward()\n",
    "    #update\n",
    "    for p in parameters:\n",
    "        p.data += -0.1 * p.grad\n",
    "print(loss.item())\n",
    "# using the minibatchs the processig becomes really fast\n",
    "#but it also makes quality of our gradient lower\n",
    "#still its goo enough, still usefull, using this we might need more steps but it is faster\n"
   ]
  },
  {
   "cell_type": "code",
   "execution_count": 64,
   "id": "d0cb6986-8500-4118-8447-2a730967c5b0",
   "metadata": {},
   "outputs": [
    {
     "data": {
      "text/plain": [
       "tensor(2.6767, grad_fn=<NllLossBackward0>)"
      ]
     },
     "execution_count": 64,
     "metadata": {},
     "output_type": "execute_result"
    }
   ],
   "source": [
    "emb= C[X]\n",
    "h= torch.tanh(emb.view(-1, 6) @ W1 + b1)\n",
    "logits = h @ W2 + b2 \n",
    "loss=F.cross_entropy(logits, Y)\n",
    "loss"
   ]
  },
  {
   "cell_type": "code",
   "execution_count": 65,
   "id": "06effbfe-03af-4c6a-a082-0cf53ec11cf6",
   "metadata": {
    "scrolled": true
   },
   "outputs": [
    {
     "data": {
      "text/plain": [
       "tensor([0.0010, 0.0010, 0.0010, 0.0010, 0.0010, 0.0010, 0.0010, 0.0010, 0.0011,\n",
       "        0.0011, 0.0011, 0.0011, 0.0011, 0.0011, 0.0011, 0.0011, 0.0011, 0.0011,\n",
       "        0.0011, 0.0011, 0.0011, 0.0012, 0.0012, 0.0012, 0.0012, 0.0012, 0.0012,\n",
       "        0.0012, 0.0012, 0.0012, 0.0012, 0.0012, 0.0012, 0.0013, 0.0013, 0.0013,\n",
       "        0.0013, 0.0013, 0.0013, 0.0013, 0.0013, 0.0013, 0.0013, 0.0013, 0.0014,\n",
       "        0.0014, 0.0014, 0.0014, 0.0014, 0.0014, 0.0014, 0.0014, 0.0014, 0.0014,\n",
       "        0.0015, 0.0015, 0.0015, 0.0015, 0.0015, 0.0015, 0.0015, 0.0015, 0.0015,\n",
       "        0.0015, 0.0016, 0.0016, 0.0016, 0.0016, 0.0016, 0.0016, 0.0016, 0.0016,\n",
       "        0.0016, 0.0017, 0.0017, 0.0017, 0.0017, 0.0017, 0.0017, 0.0017, 0.0017,\n",
       "        0.0018, 0.0018, 0.0018, 0.0018, 0.0018, 0.0018, 0.0018, 0.0018, 0.0019,\n",
       "        0.0019, 0.0019, 0.0019, 0.0019, 0.0019, 0.0019, 0.0019, 0.0020, 0.0020,\n",
       "        0.0020, 0.0020, 0.0020, 0.0020, 0.0020, 0.0021, 0.0021, 0.0021, 0.0021,\n",
       "        0.0021, 0.0021, 0.0021, 0.0022, 0.0022, 0.0022, 0.0022, 0.0022, 0.0022,\n",
       "        0.0022, 0.0023, 0.0023, 0.0023, 0.0023, 0.0023, 0.0023, 0.0024, 0.0024,\n",
       "        0.0024, 0.0024, 0.0024, 0.0024, 0.0025, 0.0025, 0.0025, 0.0025, 0.0025,\n",
       "        0.0025, 0.0026, 0.0026, 0.0026, 0.0026, 0.0026, 0.0027, 0.0027, 0.0027,\n",
       "        0.0027, 0.0027, 0.0027, 0.0028, 0.0028, 0.0028, 0.0028, 0.0028, 0.0029,\n",
       "        0.0029, 0.0029, 0.0029, 0.0029, 0.0030, 0.0030, 0.0030, 0.0030, 0.0030,\n",
       "        0.0031, 0.0031, 0.0031, 0.0031, 0.0032, 0.0032, 0.0032, 0.0032, 0.0032,\n",
       "        0.0033, 0.0033, 0.0033, 0.0033, 0.0034, 0.0034, 0.0034, 0.0034, 0.0034,\n",
       "        0.0035, 0.0035, 0.0035, 0.0035, 0.0036, 0.0036, 0.0036, 0.0036, 0.0037,\n",
       "        0.0037, 0.0037, 0.0037, 0.0038, 0.0038, 0.0038, 0.0039, 0.0039, 0.0039,\n",
       "        0.0039, 0.0040, 0.0040, 0.0040, 0.0040, 0.0041, 0.0041, 0.0041, 0.0042,\n",
       "        0.0042, 0.0042, 0.0042, 0.0043, 0.0043, 0.0043, 0.0044, 0.0044, 0.0044,\n",
       "        0.0045, 0.0045, 0.0045, 0.0045, 0.0046, 0.0046, 0.0046, 0.0047, 0.0047,\n",
       "        0.0047, 0.0048, 0.0048, 0.0048, 0.0049, 0.0049, 0.0049, 0.0050, 0.0050,\n",
       "        0.0050, 0.0051, 0.0051, 0.0051, 0.0052, 0.0052, 0.0053, 0.0053, 0.0053,\n",
       "        0.0054, 0.0054, 0.0054, 0.0055, 0.0055, 0.0056, 0.0056, 0.0056, 0.0057,\n",
       "        0.0057, 0.0058, 0.0058, 0.0058, 0.0059, 0.0059, 0.0060, 0.0060, 0.0060,\n",
       "        0.0061, 0.0061, 0.0062, 0.0062, 0.0062, 0.0063, 0.0063, 0.0064, 0.0064,\n",
       "        0.0065, 0.0065, 0.0066, 0.0066, 0.0067, 0.0067, 0.0067, 0.0068, 0.0068,\n",
       "        0.0069, 0.0069, 0.0070, 0.0070, 0.0071, 0.0071, 0.0072, 0.0072, 0.0073,\n",
       "        0.0073, 0.0074, 0.0074, 0.0075, 0.0075, 0.0076, 0.0076, 0.0077, 0.0077,\n",
       "        0.0078, 0.0079, 0.0079, 0.0080, 0.0080, 0.0081, 0.0081, 0.0082, 0.0082,\n",
       "        0.0083, 0.0084, 0.0084, 0.0085, 0.0085, 0.0086, 0.0086, 0.0087, 0.0088,\n",
       "        0.0088, 0.0089, 0.0090, 0.0090, 0.0091, 0.0091, 0.0092, 0.0093, 0.0093,\n",
       "        0.0094, 0.0095, 0.0095, 0.0096, 0.0097, 0.0097, 0.0098, 0.0099, 0.0099,\n",
       "        0.0100, 0.0101, 0.0101, 0.0102, 0.0103, 0.0104, 0.0104, 0.0105, 0.0106,\n",
       "        0.0106, 0.0107, 0.0108, 0.0109, 0.0109, 0.0110, 0.0111, 0.0112, 0.0112,\n",
       "        0.0113, 0.0114, 0.0115, 0.0116, 0.0116, 0.0117, 0.0118, 0.0119, 0.0120,\n",
       "        0.0121, 0.0121, 0.0122, 0.0123, 0.0124, 0.0125, 0.0126, 0.0127, 0.0127,\n",
       "        0.0128, 0.0129, 0.0130, 0.0131, 0.0132, 0.0133, 0.0134, 0.0135, 0.0136,\n",
       "        0.0137, 0.0137, 0.0138, 0.0139, 0.0140, 0.0141, 0.0142, 0.0143, 0.0144,\n",
       "        0.0145, 0.0146, 0.0147, 0.0148, 0.0149, 0.0150, 0.0151, 0.0152, 0.0154,\n",
       "        0.0155, 0.0156, 0.0157, 0.0158, 0.0159, 0.0160, 0.0161, 0.0162, 0.0163,\n",
       "        0.0165, 0.0166, 0.0167, 0.0168, 0.0169, 0.0170, 0.0171, 0.0173, 0.0174,\n",
       "        0.0175, 0.0176, 0.0178, 0.0179, 0.0180, 0.0181, 0.0182, 0.0184, 0.0185,\n",
       "        0.0186, 0.0188, 0.0189, 0.0190, 0.0192, 0.0193, 0.0194, 0.0196, 0.0197,\n",
       "        0.0198, 0.0200, 0.0201, 0.0202, 0.0204, 0.0205, 0.0207, 0.0208, 0.0210,\n",
       "        0.0211, 0.0212, 0.0214, 0.0215, 0.0217, 0.0218, 0.0220, 0.0221, 0.0223,\n",
       "        0.0225, 0.0226, 0.0228, 0.0229, 0.0231, 0.0232, 0.0234, 0.0236, 0.0237,\n",
       "        0.0239, 0.0241, 0.0242, 0.0244, 0.0246, 0.0247, 0.0249, 0.0251, 0.0253,\n",
       "        0.0254, 0.0256, 0.0258, 0.0260, 0.0261, 0.0263, 0.0265, 0.0267, 0.0269,\n",
       "        0.0271, 0.0273, 0.0274, 0.0276, 0.0278, 0.0280, 0.0282, 0.0284, 0.0286,\n",
       "        0.0288, 0.0290, 0.0292, 0.0294, 0.0296, 0.0298, 0.0300, 0.0302, 0.0304,\n",
       "        0.0307, 0.0309, 0.0311, 0.0313, 0.0315, 0.0317, 0.0320, 0.0322, 0.0324,\n",
       "        0.0326, 0.0328, 0.0331, 0.0333, 0.0335, 0.0338, 0.0340, 0.0342, 0.0345,\n",
       "        0.0347, 0.0350, 0.0352, 0.0354, 0.0357, 0.0359, 0.0362, 0.0364, 0.0367,\n",
       "        0.0369, 0.0372, 0.0375, 0.0377, 0.0380, 0.0382, 0.0385, 0.0388, 0.0390,\n",
       "        0.0393, 0.0396, 0.0399, 0.0401, 0.0404, 0.0407, 0.0410, 0.0413, 0.0416,\n",
       "        0.0418, 0.0421, 0.0424, 0.0427, 0.0430, 0.0433, 0.0436, 0.0439, 0.0442,\n",
       "        0.0445, 0.0448, 0.0451, 0.0455, 0.0458, 0.0461, 0.0464, 0.0467, 0.0471,\n",
       "        0.0474, 0.0477, 0.0480, 0.0484, 0.0487, 0.0491, 0.0494, 0.0497, 0.0501,\n",
       "        0.0504, 0.0508, 0.0511, 0.0515, 0.0518, 0.0522, 0.0526, 0.0529, 0.0533,\n",
       "        0.0537, 0.0540, 0.0544, 0.0548, 0.0552, 0.0556, 0.0559, 0.0563, 0.0567,\n",
       "        0.0571, 0.0575, 0.0579, 0.0583, 0.0587, 0.0591, 0.0595, 0.0599, 0.0604,\n",
       "        0.0608, 0.0612, 0.0616, 0.0621, 0.0625, 0.0629, 0.0634, 0.0638, 0.0642,\n",
       "        0.0647, 0.0651, 0.0656, 0.0660, 0.0665, 0.0670, 0.0674, 0.0679, 0.0684,\n",
       "        0.0688, 0.0693, 0.0698, 0.0703, 0.0708, 0.0713, 0.0718, 0.0723, 0.0728,\n",
       "        0.0733, 0.0738, 0.0743, 0.0748, 0.0753, 0.0758, 0.0764, 0.0769, 0.0774,\n",
       "        0.0780, 0.0785, 0.0790, 0.0796, 0.0802, 0.0807, 0.0813, 0.0818, 0.0824,\n",
       "        0.0830, 0.0835, 0.0841, 0.0847, 0.0853, 0.0859, 0.0865, 0.0871, 0.0877,\n",
       "        0.0883, 0.0889, 0.0895, 0.0901, 0.0908, 0.0914, 0.0920, 0.0927, 0.0933,\n",
       "        0.0940, 0.0946, 0.0953, 0.0959, 0.0966, 0.0973, 0.0979, 0.0986, 0.0993,\n",
       "        0.1000, 0.1007, 0.1014, 0.1021, 0.1028, 0.1035, 0.1042, 0.1050, 0.1057,\n",
       "        0.1064, 0.1072, 0.1079, 0.1087, 0.1094, 0.1102, 0.1109, 0.1117, 0.1125,\n",
       "        0.1133, 0.1140, 0.1148, 0.1156, 0.1164, 0.1172, 0.1181, 0.1189, 0.1197,\n",
       "        0.1205, 0.1214, 0.1222, 0.1231, 0.1239, 0.1248, 0.1256, 0.1265, 0.1274,\n",
       "        0.1283, 0.1292, 0.1301, 0.1310, 0.1319, 0.1328, 0.1337, 0.1346, 0.1356,\n",
       "        0.1365, 0.1374, 0.1384, 0.1394, 0.1403, 0.1413, 0.1423, 0.1433, 0.1443,\n",
       "        0.1453, 0.1463, 0.1473, 0.1483, 0.1493, 0.1504, 0.1514, 0.1525, 0.1535,\n",
       "        0.1546, 0.1557, 0.1567, 0.1578, 0.1589, 0.1600, 0.1611, 0.1623, 0.1634,\n",
       "        0.1645, 0.1657, 0.1668, 0.1680, 0.1691, 0.1703, 0.1715, 0.1727, 0.1739,\n",
       "        0.1751, 0.1763, 0.1775, 0.1788, 0.1800, 0.1812, 0.1825, 0.1838, 0.1850,\n",
       "        0.1863, 0.1876, 0.1889, 0.1902, 0.1916, 0.1929, 0.1942, 0.1956, 0.1969,\n",
       "        0.1983, 0.1997, 0.2010, 0.2024, 0.2038, 0.2053, 0.2067, 0.2081, 0.2096,\n",
       "        0.2110, 0.2125, 0.2140, 0.2154, 0.2169, 0.2184, 0.2200, 0.2215, 0.2230,\n",
       "        0.2246, 0.2261, 0.2277, 0.2293, 0.2309, 0.2325, 0.2341, 0.2357, 0.2373,\n",
       "        0.2390, 0.2406, 0.2423, 0.2440, 0.2457, 0.2474, 0.2491, 0.2508, 0.2526,\n",
       "        0.2543, 0.2561, 0.2579, 0.2597, 0.2615, 0.2633, 0.2651, 0.2669, 0.2688,\n",
       "        0.2707, 0.2725, 0.2744, 0.2763, 0.2783, 0.2802, 0.2821, 0.2841, 0.2861,\n",
       "        0.2880, 0.2900, 0.2921, 0.2941, 0.2961, 0.2982, 0.3002, 0.3023, 0.3044,\n",
       "        0.3065, 0.3087, 0.3108, 0.3130, 0.3151, 0.3173, 0.3195, 0.3217, 0.3240,\n",
       "        0.3262, 0.3285, 0.3308, 0.3331, 0.3354, 0.3377, 0.3400, 0.3424, 0.3448,\n",
       "        0.3472, 0.3496, 0.3520, 0.3544, 0.3569, 0.3594, 0.3619, 0.3644, 0.3669,\n",
       "        0.3695, 0.3720, 0.3746, 0.3772, 0.3798, 0.3825, 0.3851, 0.3878, 0.3905,\n",
       "        0.3932, 0.3959, 0.3987, 0.4014, 0.4042, 0.4070, 0.4098, 0.4127, 0.4155,\n",
       "        0.4184, 0.4213, 0.4243, 0.4272, 0.4302, 0.4331, 0.4362, 0.4392, 0.4422,\n",
       "        0.4453, 0.4484, 0.4515, 0.4546, 0.4578, 0.4610, 0.4642, 0.4674, 0.4706,\n",
       "        0.4739, 0.4772, 0.4805, 0.4838, 0.4872, 0.4906, 0.4940, 0.4974, 0.5008,\n",
       "        0.5043, 0.5078, 0.5113, 0.5149, 0.5185, 0.5221, 0.5257, 0.5293, 0.5330,\n",
       "        0.5367, 0.5404, 0.5442, 0.5479, 0.5517, 0.5556, 0.5594, 0.5633, 0.5672,\n",
       "        0.5712, 0.5751, 0.5791, 0.5831, 0.5872, 0.5913, 0.5954, 0.5995, 0.6036,\n",
       "        0.6078, 0.6120, 0.6163, 0.6206, 0.6249, 0.6292, 0.6336, 0.6380, 0.6424,\n",
       "        0.6469, 0.6513, 0.6559, 0.6604, 0.6650, 0.6696, 0.6743, 0.6789, 0.6837,\n",
       "        0.6884, 0.6932, 0.6980, 0.7028, 0.7077, 0.7126, 0.7176, 0.7225, 0.7275,\n",
       "        0.7326, 0.7377, 0.7428, 0.7480, 0.7531, 0.7584, 0.7636, 0.7689, 0.7743,\n",
       "        0.7796, 0.7850, 0.7905, 0.7960, 0.8015, 0.8071, 0.8127, 0.8183, 0.8240,\n",
       "        0.8297, 0.8355, 0.8412, 0.8471, 0.8530, 0.8589, 0.8648, 0.8708, 0.8769,\n",
       "        0.8830, 0.8891, 0.8953, 0.9015, 0.9077, 0.9140, 0.9204, 0.9268, 0.9332,\n",
       "        0.9397, 0.9462, 0.9528, 0.9594, 0.9660, 0.9727, 0.9795, 0.9863, 0.9931,\n",
       "        1.0000])"
      ]
     },
     "execution_count": 65,
     "metadata": {},
     "output_type": "execute_result"
    }
   ],
   "source": [
    "# finding good initial learning rate\n",
    "#first initially set the learning rate manually and check between \n",
    "#which 2 values there might be that optimal learning rate exist\n",
    "lre = torch.linspace(-3, 0, 1000)\n",
    "lrs = 10**lre\n",
    "lrs"
   ]
  },
  {
   "cell_type": "code",
   "execution_count": 66,
   "id": "f7bc9c15-16b3-48f4-ba7d-f09e4a7bb158",
   "metadata": {},
   "outputs": [
    {
     "data": {
      "text/plain": [
       "(torch.Size([228146, 3]), torch.int64, torch.Size([228146]), torch.int64)"
      ]
     },
     "execution_count": 66,
     "metadata": {},
     "output_type": "execute_result"
    }
   ],
   "source": [
    "X.shape, X.dtype, Y.shape, Y.dtype\n"
   ]
  },
  {
   "cell_type": "code",
   "execution_count": 67,
   "id": "c19044c3-c8a7-452b-80d9-30c6432ea61f",
   "metadata": {},
   "outputs": [],
   "source": [
    "#resetting everything again\n",
    "g = torch.Generator().manual_seed(2147483647) # for reproducibility\n",
    "C = torch.randn((27, 2), generator=g)\n",
    "W1 = torch.randn((6, 100), generator=g)\n",
    "b1 = torch.randn(100, generator=g)\n",
    "W2 = torch.randn((100, 27), generator=g)\n",
    "b2 = torch.randn(27, generator=g)\n",
    "parameters = [C, W1, b1, W2, b2]"
   ]
  },
  {
   "cell_type": "code",
   "execution_count": 68,
   "id": "e321d8b6-5574-48ab-bfeb-f0ea63f620fc",
   "metadata": {},
   "outputs": [
    {
     "data": {
      "text/plain": [
       "3481"
      ]
     },
     "execution_count": 68,
     "metadata": {},
     "output_type": "execute_result"
    }
   ],
   "source": [
    "sum(p.nelement() for p in parameters) \n",
    "#number of parameters in total"
   ]
  },
  {
   "cell_type": "code",
   "execution_count": 69,
   "id": "e6692780-eee4-47c6-b914-7d706a092315",
   "metadata": {},
   "outputs": [],
   "source": [
    "for p in parameters:\n",
    "    p.requires_grad = True"
   ]
  },
  {
   "cell_type": "code",
   "execution_count": 70,
   "id": "521a0942-19f7-473a-be0a-61a8d1697f26",
   "metadata": {
    "scrolled": true
   },
   "outputs": [
    {
     "name": "stdout",
     "output_type": "stream",
     "text": [
      "17.987051010131836\n",
      "21.22051239013672\n",
      "18.7637939453125\n",
      "19.951414108276367\n",
      "21.27646255493164\n",
      "20.774898529052734\n",
      "20.184871673583984\n",
      "18.336711883544922\n",
      "17.812824249267578\n",
      "22.145631790161133\n",
      "19.059709548950195\n",
      "19.33768653869629\n",
      "19.77495002746582\n",
      "21.40352439880371\n",
      "22.239646911621094\n",
      "20.56174659729004\n",
      "18.172183990478516\n",
      "16.534494400024414\n",
      "16.098339080810547\n",
      "19.222013473510742\n",
      "17.38470458984375\n",
      "19.922088623046875\n",
      "18.777685165405273\n",
      "21.052030563354492\n",
      "22.578813552856445\n",
      "15.781217575073242\n",
      "19.261396408081055\n",
      "17.65741539001465\n",
      "18.250104904174805\n",
      "14.19209098815918\n",
      "15.631133079528809\n",
      "20.29380989074707\n",
      "18.182209014892578\n",
      "22.37508773803711\n",
      "19.793352127075195\n",
      "17.92282485961914\n",
      "16.21338653564453\n",
      "21.228242874145508\n",
      "19.73763656616211\n",
      "17.636737823486328\n",
      "15.36812973022461\n",
      "17.15806007385254\n",
      "18.279935836791992\n",
      "17.15433692932129\n",
      "18.450336456298828\n",
      "17.04483413696289\n",
      "19.691551208496094\n",
      "16.918928146362305\n",
      "15.245615005493164\n",
      "15.623612403869629\n",
      "17.27452850341797\n",
      "19.163637161254883\n",
      "16.520307540893555\n",
      "13.720210075378418\n",
      "16.64195442199707\n",
      "17.04889488220215\n",
      "16.012441635131836\n",
      "16.603384017944336\n",
      "17.599414825439453\n",
      "18.156600952148438\n",
      "19.57845115661621\n",
      "19.188447952270508\n",
      "17.778057098388672\n",
      "16.860279083251953\n",
      "17.613801956176758\n",
      "18.138866424560547\n",
      "19.197032928466797\n",
      "16.590530395507812\n",
      "16.703857421875\n",
      "16.007869720458984\n",
      "16.324464797973633\n",
      "18.00052261352539\n",
      "18.953617095947266\n",
      "17.13939094543457\n",
      "16.848791122436523\n",
      "16.935762405395508\n",
      "14.080410957336426\n",
      "18.089519500732422\n",
      "19.135957717895508\n",
      "16.8156795501709\n",
      "15.828655242919922\n",
      "16.71444320678711\n",
      "19.914316177368164\n",
      "16.77254867553711\n",
      "12.327202796936035\n",
      "17.826873779296875\n",
      "16.69729995727539\n",
      "18.097932815551758\n",
      "17.220531463623047\n",
      "13.432417869567871\n",
      "17.273502349853516\n",
      "17.08563232421875\n",
      "19.92803955078125\n",
      "15.7955322265625\n",
      "16.043872833251953\n",
      "16.20339012145996\n",
      "17.999256134033203\n",
      "16.52729606628418\n",
      "17.24959373474121\n",
      "17.07652473449707\n",
      "18.26079559326172\n",
      "18.280441284179688\n",
      "13.910784721374512\n",
      "17.7901611328125\n",
      "17.665403366088867\n",
      "20.66031837463379\n",
      "16.166332244873047\n",
      "17.314105987548828\n",
      "13.801509857177734\n",
      "17.105541229248047\n",
      "16.819650650024414\n",
      "15.635307312011719\n",
      "16.89205551147461\n",
      "13.923845291137695\n",
      "15.14610481262207\n",
      "17.435588836669922\n",
      "14.295700073242188\n",
      "15.082186698913574\n",
      "15.254260063171387\n",
      "14.81908893585205\n",
      "15.728169441223145\n",
      "18.47439193725586\n",
      "20.291902542114258\n",
      "15.755592346191406\n",
      "15.911124229431152\n",
      "16.626535415649414\n",
      "14.895806312561035\n",
      "16.991924285888672\n",
      "16.790502548217773\n",
      "13.206064224243164\n",
      "15.681167602539062\n",
      "15.58083724975586\n",
      "15.939203262329102\n",
      "17.85514259338379\n",
      "14.123635292053223\n",
      "18.716747283935547\n",
      "12.135748863220215\n",
      "18.173782348632812\n",
      "11.932101249694824\n",
      "15.807799339294434\n",
      "16.91997528076172\n",
      "13.869549751281738\n",
      "15.342251777648926\n",
      "15.96682357788086\n",
      "15.637548446655273\n",
      "16.718610763549805\n",
      "13.757429122924805\n",
      "15.039509773254395\n",
      "14.59016227722168\n",
      "15.62969970703125\n",
      "12.940441131591797\n",
      "12.37283992767334\n",
      "14.161547660827637\n",
      "15.453082084655762\n",
      "16.851327896118164\n",
      "15.791441917419434\n",
      "14.335061073303223\n",
      "15.510666847229004\n",
      "15.814244270324707\n",
      "16.551044464111328\n",
      "15.283076286315918\n",
      "16.114158630371094\n",
      "12.267446517944336\n",
      "16.100873947143555\n",
      "12.269392967224121\n",
      "16.55323600769043\n",
      "11.949600219726562\n",
      "14.583149909973145\n",
      "12.272644996643066\n",
      "16.446008682250977\n",
      "16.85576057434082\n",
      "17.497045516967773\n",
      "14.046184539794922\n",
      "15.718066215515137\n",
      "15.341567993164062\n",
      "12.702224731445312\n",
      "14.387507438659668\n",
      "13.722809791564941\n",
      "12.897607803344727\n",
      "14.448190689086914\n",
      "15.217146873474121\n",
      "15.565277099609375\n",
      "13.257841110229492\n",
      "13.535834312438965\n",
      "14.038798332214355\n",
      "15.101385116577148\n",
      "13.886260032653809\n",
      "13.861839294433594\n",
      "15.268733978271484\n",
      "11.6674165725708\n",
      "13.96847152709961\n",
      "15.669384002685547\n",
      "11.107784271240234\n",
      "15.398109436035156\n",
      "13.063735008239746\n",
      "16.59795570373535\n",
      "12.977789878845215\n",
      "14.565964698791504\n",
      "11.285597801208496\n",
      "14.857819557189941\n",
      "15.339184761047363\n",
      "13.087386131286621\n",
      "14.298834800720215\n",
      "13.589346885681152\n",
      "13.060762405395508\n",
      "13.054280281066895\n",
      "16.076711654663086\n",
      "11.769315719604492\n",
      "15.072839736938477\n",
      "13.71297836303711\n",
      "11.890556335449219\n",
      "12.88652515411377\n",
      "9.836426734924316\n",
      "15.492600440979004\n",
      "11.518915176391602\n",
      "14.240514755249023\n",
      "13.970641136169434\n",
      "14.58796215057373\n",
      "14.939909934997559\n",
      "14.55919075012207\n",
      "16.138614654541016\n",
      "13.608054161071777\n",
      "12.221132278442383\n",
      "11.925456047058105\n",
      "12.803125381469727\n",
      "14.122239112854004\n",
      "13.195425987243652\n",
      "14.204533576965332\n",
      "13.464744567871094\n",
      "10.970565795898438\n",
      "14.814440727233887\n",
      "12.560375213623047\n",
      "10.607978820800781\n",
      "12.311074256896973\n",
      "13.166152000427246\n",
      "10.962016105651855\n",
      "13.157485961914062\n",
      "14.360021591186523\n",
      "11.097180366516113\n",
      "14.13433837890625\n",
      "11.125590324401855\n",
      "11.231279373168945\n",
      "12.771980285644531\n",
      "11.818157196044922\n",
      "13.179693222045898\n",
      "10.799250602722168\n",
      "12.070969581604004\n",
      "11.833415031433105\n",
      "13.744595527648926\n",
      "10.553815841674805\n",
      "14.011533737182617\n",
      "10.658845901489258\n",
      "16.095111846923828\n",
      "12.39125919342041\n",
      "14.875356674194336\n",
      "12.21996021270752\n",
      "11.538078308105469\n",
      "15.628786087036133\n",
      "10.69661808013916\n",
      "10.297891616821289\n",
      "10.53138256072998\n",
      "12.384861946105957\n",
      "10.585563659667969\n",
      "10.839542388916016\n",
      "11.608223915100098\n",
      "15.147709846496582\n",
      "14.133086204528809\n",
      "12.294557571411133\n",
      "11.417647361755371\n",
      "12.640206336975098\n",
      "12.122476577758789\n",
      "11.985365867614746\n",
      "11.238850593566895\n",
      "11.191313743591309\n",
      "12.223922729492188\n",
      "10.440482139587402\n",
      "10.04831314086914\n",
      "14.012598991394043\n",
      "15.004977226257324\n",
      "8.78309440612793\n",
      "10.42839527130127\n",
      "10.675569534301758\n",
      "12.319117546081543\n",
      "11.567039489746094\n",
      "9.866449356079102\n",
      "12.710232734680176\n",
      "11.20043659210205\n",
      "11.53494930267334\n",
      "12.764270782470703\n",
      "9.946785926818848\n",
      "10.275317192077637\n",
      "11.40241527557373\n",
      "11.605634689331055\n",
      "8.997007369995117\n",
      "12.485729217529297\n",
      "12.086299896240234\n",
      "10.697010040283203\n",
      "10.165822982788086\n",
      "11.482621192932129\n",
      "10.836050033569336\n",
      "13.544130325317383\n",
      "13.671467781066895\n",
      "13.861895561218262\n",
      "12.788822174072266\n",
      "12.624653816223145\n",
      "7.018600940704346\n",
      "9.152447700500488\n",
      "13.001941680908203\n",
      "12.097871780395508\n",
      "13.406012535095215\n",
      "10.32241439819336\n",
      "10.005545616149902\n",
      "10.353558540344238\n",
      "8.68639087677002\n",
      "11.82058048248291\n",
      "10.43559741973877\n",
      "10.298270225524902\n",
      "9.966597557067871\n",
      "11.182912826538086\n",
      "11.90831470489502\n",
      "10.775968551635742\n",
      "10.797137260437012\n",
      "9.474626541137695\n",
      "8.607438087463379\n",
      "10.433255195617676\n",
      "8.817625999450684\n",
      "10.065095901489258\n",
      "11.211464881896973\n",
      "8.489083290100098\n",
      "10.371500968933105\n",
      "10.123682975769043\n",
      "10.230286598205566\n",
      "9.294164657592773\n",
      "8.771317481994629\n",
      "9.925320625305176\n",
      "9.89008617401123\n",
      "9.988971710205078\n",
      "10.600805282592773\n",
      "10.221010208129883\n",
      "7.928472518920898\n",
      "9.21281909942627\n",
      "9.048576354980469\n",
      "9.776920318603516\n",
      "7.980466842651367\n",
      "9.736882209777832\n",
      "11.30947208404541\n",
      "9.147165298461914\n",
      "9.934395790100098\n",
      "9.069389343261719\n",
      "9.315220832824707\n",
      "9.844390869140625\n",
      "8.28276252746582\n",
      "12.349464416503906\n",
      "10.505684852600098\n",
      "7.8535332679748535\n",
      "9.786165237426758\n",
      "7.673558235168457\n",
      "9.386077880859375\n",
      "8.502045631408691\n",
      "9.486014366149902\n",
      "8.786846160888672\n",
      "8.022528648376465\n",
      "8.978708267211914\n",
      "9.519943237304688\n",
      "8.362456321716309\n",
      "7.52401876449585\n",
      "8.51204776763916\n",
      "8.126616477966309\n",
      "8.480023384094238\n",
      "11.044037818908691\n",
      "7.558694839477539\n",
      "9.9367036819458\n",
      "10.157461166381836\n",
      "9.579981803894043\n",
      "7.524613380432129\n",
      "9.257340431213379\n",
      "7.048111915588379\n",
      "10.792712211608887\n",
      "8.802202224731445\n",
      "11.463930130004883\n",
      "8.405778884887695\n",
      "9.523855209350586\n",
      "10.65014934539795\n",
      "9.315983772277832\n",
      "7.687020778656006\n",
      "9.721253395080566\n",
      "9.188289642333984\n",
      "7.218266010284424\n",
      "6.891425132751465\n",
      "9.120948791503906\n",
      "9.779030799865723\n",
      "9.451879501342773\n",
      "7.705131530761719\n",
      "9.619808197021484\n",
      "8.539346694946289\n",
      "6.64707088470459\n",
      "7.897594451904297\n",
      "7.248558521270752\n",
      "7.6341352462768555\n",
      "8.540569305419922\n",
      "6.508477210998535\n",
      "9.551678657531738\n",
      "7.791618347167969\n",
      "6.644745826721191\n",
      "7.794315338134766\n",
      "8.659996032714844\n",
      "8.20051383972168\n",
      "7.919457912445068\n",
      "8.160707473754883\n",
      "7.854979515075684\n",
      "9.298215866088867\n",
      "7.644110202789307\n",
      "7.6548752784729\n",
      "7.985568523406982\n",
      "5.310581684112549\n",
      "5.759435176849365\n",
      "7.555578708648682\n",
      "5.841940879821777\n",
      "8.041243553161621\n",
      "5.422826290130615\n",
      "9.164362907409668\n",
      "7.435222625732422\n",
      "7.037471771240234\n",
      "6.536705017089844\n",
      "8.314404487609863\n",
      "5.7853264808654785\n",
      "7.407225608825684\n",
      "6.60524845123291\n",
      "6.297842979431152\n",
      "6.544581890106201\n",
      "5.756678104400635\n",
      "7.220678806304932\n",
      "8.81179141998291\n",
      "6.17111349105835\n",
      "7.572167873382568\n",
      "7.191377639770508\n",
      "7.601032257080078\n",
      "5.940176486968994\n",
      "7.085803508758545\n",
      "6.070643424987793\n",
      "9.276884078979492\n",
      "6.317385196685791\n",
      "8.14302921295166\n",
      "7.95576286315918\n",
      "6.508495807647705\n",
      "8.60975170135498\n",
      "7.221285820007324\n",
      "7.131282329559326\n",
      "6.998763084411621\n",
      "7.571056842803955\n",
      "6.820054054260254\n",
      "5.913921356201172\n",
      "7.2950263023376465\n",
      "6.932381629943848\n",
      "5.478470325469971\n",
      "7.137820720672607\n",
      "6.638914108276367\n",
      "4.766448020935059\n",
      "7.941072463989258\n",
      "6.500106334686279\n",
      "6.7027106285095215\n",
      "6.429388999938965\n",
      "6.517795562744141\n",
      "6.848006725311279\n",
      "5.1614670753479\n",
      "7.39694356918335\n",
      "6.347990989685059\n",
      "6.351077079772949\n",
      "7.267907619476318\n",
      "5.62858772277832\n",
      "6.935754299163818\n",
      "5.954782962799072\n",
      "6.696035861968994\n",
      "5.876865386962891\n",
      "4.476145267486572\n",
      "5.221053600311279\n",
      "5.736161231994629\n",
      "5.748536586761475\n",
      "6.892723560333252\n",
      "4.3443498611450195\n",
      "5.478203773498535\n",
      "7.250566005706787\n",
      "4.952581882476807\n",
      "6.2066426277160645\n",
      "5.554091930389404\n",
      "6.023465633392334\n",
      "5.235422134399414\n",
      "6.459335803985596\n",
      "5.791422367095947\n",
      "5.503716945648193\n",
      "6.358371257781982\n",
      "6.558175086975098\n",
      "7.245294094085693\n",
      "6.187228679656982\n",
      "4.107019424438477\n",
      "5.596047401428223\n",
      "5.27910852432251\n",
      "6.71220588684082\n",
      "5.784553527832031\n",
      "5.505717754364014\n",
      "5.912160873413086\n",
      "5.053698539733887\n",
      "6.592520713806152\n",
      "5.450179576873779\n",
      "5.156703948974609\n",
      "6.303101062774658\n",
      "6.067523002624512\n",
      "4.737432479858398\n",
      "6.0889129638671875\n",
      "6.219876289367676\n",
      "3.6101949214935303\n",
      "4.847714900970459\n",
      "4.895235061645508\n",
      "6.083746433258057\n",
      "5.8513665199279785\n",
      "4.526933670043945\n",
      "5.027923583984375\n",
      "6.0339202880859375\n",
      "6.1920976638793945\n",
      "5.437558650970459\n",
      "5.090758323669434\n",
      "4.649870872497559\n",
      "5.299790859222412\n",
      "5.300071716308594\n",
      "4.866763114929199\n",
      "4.085692405700684\n",
      "6.001654148101807\n",
      "3.1942684650421143\n",
      "5.399158000946045\n",
      "5.880346775054932\n",
      "5.715290069580078\n",
      "5.920343399047852\n",
      "3.9723498821258545\n",
      "4.1456379890441895\n",
      "4.378490447998047\n",
      "4.900000095367432\n",
      "4.863853454589844\n",
      "4.476943016052246\n",
      "4.572250843048096\n",
      "5.088040351867676\n",
      "4.453357696533203\n",
      "4.946196556091309\n",
      "4.4556660652160645\n",
      "3.8861987590789795\n",
      "4.512603282928467\n",
      "4.41192102432251\n",
      "4.53626823425293\n",
      "4.126960754394531\n",
      "5.422786235809326\n",
      "4.764143943786621\n",
      "3.5978753566741943\n",
      "4.0780744552612305\n",
      "3.5282201766967773\n",
      "4.286647796630859\n",
      "3.9615955352783203\n",
      "3.680882692337036\n",
      "5.14487361907959\n",
      "4.393154621124268\n",
      "4.660732269287109\n",
      "3.5526931285858154\n",
      "3.9074783325195312\n",
      "5.2774248123168945\n",
      "3.398674488067627\n",
      "4.176816940307617\n",
      "3.4551444053649902\n",
      "4.799519062042236\n",
      "4.026324272155762\n",
      "3.4336178302764893\n",
      "5.369808197021484\n",
      "3.6247518062591553\n",
      "4.209213733673096\n",
      "4.854859352111816\n",
      "3.43584942817688\n",
      "4.797080993652344\n",
      "3.3574817180633545\n",
      "4.138843536376953\n",
      "3.911895990371704\n",
      "3.112778425216675\n",
      "3.961724042892456\n",
      "4.109087944030762\n",
      "3.6352016925811768\n",
      "3.92440128326416\n",
      "3.3811497688293457\n",
      "3.330936908721924\n",
      "3.818206787109375\n",
      "3.8074021339416504\n",
      "4.466149806976318\n",
      "3.4198882579803467\n",
      "3.494713544845581\n",
      "4.079848766326904\n",
      "4.106011390686035\n",
      "3.847322702407837\n",
      "4.617745876312256\n",
      "3.848618745803833\n",
      "3.706120252609253\n",
      "3.2142364978790283\n",
      "4.330881118774414\n",
      "3.7093100547790527\n",
      "3.8678627014160156\n",
      "3.9800567626953125\n",
      "3.766653537750244\n",
      "5.847560405731201\n",
      "3.1479499340057373\n",
      "4.342143535614014\n",
      "4.255805969238281\n",
      "4.3784589767456055\n",
      "3.7908642292022705\n",
      "4.575997352600098\n",
      "3.9605369567871094\n",
      "4.424971580505371\n",
      "3.317946434020996\n",
      "3.14243221282959\n",
      "3.8297548294067383\n",
      "4.425014972686768\n",
      "3.49524188041687\n",
      "3.8299882411956787\n",
      "3.3591866493225098\n",
      "3.6494803428649902\n",
      "4.553932189941406\n",
      "3.360997438430786\n",
      "3.9283065795898438\n",
      "3.1917712688446045\n",
      "3.8008980751037598\n",
      "3.514230966567993\n",
      "3.8868062496185303\n",
      "3.366041660308838\n",
      "3.6591873168945312\n",
      "2.9309234619140625\n",
      "3.8756868839263916\n",
      "3.389397621154785\n",
      "3.565906286239624\n",
      "3.7718286514282227\n",
      "3.019237995147705\n",
      "3.8705551624298096\n",
      "2.9757156372070312\n",
      "3.3107752799987793\n",
      "3.0890212059020996\n",
      "3.5196495056152344\n",
      "3.4591312408447266\n",
      "3.5034821033477783\n",
      "3.572404384613037\n",
      "3.3508052825927734\n",
      "2.70692777633667\n",
      "3.5500080585479736\n",
      "3.2467124462127686\n",
      "2.9253902435302734\n",
      "3.2161898612976074\n",
      "4.049928188323975\n",
      "3.0911076068878174\n",
      "3.013761043548584\n",
      "2.7152726650238037\n",
      "2.921471357345581\n",
      "3.006624221801758\n",
      "3.015634059906006\n",
      "3.974990129470825\n",
      "2.9663546085357666\n",
      "2.7357804775238037\n",
      "3.1984007358551025\n",
      "3.2863588333129883\n",
      "2.854806661605835\n",
      "3.4400908946990967\n",
      "2.7207400798797607\n",
      "3.875033140182495\n",
      "2.9441280364990234\n",
      "3.126756191253662\n",
      "3.3909387588500977\n",
      "3.669294595718384\n",
      "2.996405839920044\n",
      "3.531296968460083\n",
      "3.367292642593384\n",
      "3.770402669906616\n",
      "2.7628018856048584\n",
      "4.000495910644531\n",
      "3.798645257949829\n",
      "3.507474899291992\n",
      "2.8544552326202393\n",
      "2.7885305881500244\n",
      "3.2750027179718018\n",
      "2.985727548599243\n",
      "3.568563938140869\n",
      "3.366445779800415\n",
      "3.504706382751465\n",
      "2.6676735877990723\n",
      "2.6889994144439697\n",
      "3.0426273345947266\n",
      "3.244316816329956\n",
      "3.1113176345825195\n",
      "3.0489096641540527\n",
      "4.186943054199219\n",
      "3.2961480617523193\n",
      "3.251920461654663\n",
      "2.6582183837890625\n",
      "3.0186619758605957\n",
      "3.4139437675476074\n",
      "2.920943021774292\n",
      "3.8679585456848145\n",
      "2.4392426013946533\n",
      "3.0136845111846924\n",
      "3.224806070327759\n",
      "3.1127817630767822\n",
      "3.9297850131988525\n",
      "3.377946376800537\n",
      "2.8973398208618164\n",
      "3.067439079284668\n",
      "3.4997639656066895\n",
      "3.2547414302825928\n",
      "3.063418388366699\n",
      "3.757805585861206\n",
      "2.8749494552612305\n",
      "2.5164337158203125\n",
      "2.976670503616333\n",
      "3.3054845333099365\n",
      "2.806947946548462\n",
      "2.6119542121887207\n",
      "2.9464049339294434\n",
      "2.4505867958068848\n",
      "3.6015610694885254\n",
      "3.304176092147827\n",
      "3.9985876083374023\n",
      "3.390768527984619\n",
      "2.6158316135406494\n",
      "3.5767440795898438\n",
      "3.1256494522094727\n",
      "2.6032402515411377\n",
      "3.3734664916992188\n",
      "2.864604949951172\n",
      "2.857679843902588\n",
      "2.444352149963379\n",
      "2.8929390907287598\n",
      "2.7181153297424316\n",
      "3.278810501098633\n",
      "3.581918239593506\n",
      "3.3270645141601562\n",
      "3.5653066635131836\n",
      "3.0541205406188965\n",
      "3.4105186462402344\n",
      "2.822955846786499\n",
      "2.5758607387542725\n",
      "3.410109758377075\n",
      "3.5812325477600098\n",
      "3.078066349029541\n",
      "3.3560941219329834\n",
      "3.446052312850952\n",
      "2.8094887733459473\n",
      "2.7229177951812744\n",
      "3.028639078140259\n",
      "3.653911590576172\n",
      "3.620473623275757\n",
      "2.9632983207702637\n",
      "2.825904369354248\n",
      "2.9010443687438965\n",
      "3.027446746826172\n",
      "2.7759838104248047\n",
      "3.2903847694396973\n",
      "3.453544855117798\n",
      "3.097682476043701\n",
      "2.8595008850097656\n",
      "3.2815310955047607\n",
      "3.554680347442627\n",
      "2.869220018386841\n",
      "3.2127089500427246\n",
      "2.6999967098236084\n",
      "2.7913661003112793\n",
      "4.058586120605469\n",
      "3.6742334365844727\n",
      "2.9582622051239014\n",
      "3.0328264236450195\n",
      "3.7971529960632324\n",
      "3.370429515838623\n",
      "3.3574819564819336\n",
      "3.060701847076416\n",
      "3.2241172790527344\n",
      "3.09322452545166\n",
      "3.239556074142456\n",
      "3.3474044799804688\n",
      "2.677480936050415\n",
      "3.556687831878662\n",
      "3.1804592609405518\n",
      "3.8097360134124756\n",
      "3.089369297027588\n",
      "3.070713520050049\n",
      "3.037919282913208\n",
      "3.470477819442749\n",
      "3.814467191696167\n",
      "3.4961419105529785\n",
      "2.922908306121826\n",
      "2.868328332901001\n",
      "2.2041001319885254\n",
      "3.089838981628418\n",
      "3.3385000228881836\n",
      "3.641688108444214\n",
      "3.210930585861206\n",
      "3.5773441791534424\n",
      "3.8642055988311768\n",
      "3.058591604232788\n",
      "4.370902061462402\n",
      "2.9301095008850098\n",
      "3.937896251678467\n",
      "4.318778991699219\n",
      "4.049649715423584\n",
      "2.7459709644317627\n",
      "2.842796564102173\n",
      "3.193952798843384\n",
      "2.5556139945983887\n",
      "3.177827835083008\n",
      "4.186066627502441\n",
      "3.02466082572937\n",
      "2.916574716567993\n",
      "3.0350334644317627\n",
      "3.2706854343414307\n",
      "3.2859139442443848\n",
      "3.3916196823120117\n",
      "3.0306081771850586\n",
      "3.5243685245513916\n",
      "3.4455814361572266\n",
      "3.622619390487671\n",
      "3.9714150428771973\n",
      "4.374205112457275\n",
      "4.129495143890381\n",
      "2.7594783306121826\n",
      "4.132688999176025\n",
      "3.6543352603912354\n",
      "3.4684526920318604\n",
      "2.8934531211853027\n",
      "2.838132381439209\n",
      "3.223261594772339\n",
      "4.304126739501953\n",
      "3.7088241577148438\n",
      "4.152791500091553\n",
      "3.3819775581359863\n",
      "4.146827220916748\n",
      "4.373778343200684\n",
      "3.2519729137420654\n",
      "3.982039213180542\n",
      "4.026753902435303\n",
      "3.721766471862793\n",
      "4.188887596130371\n",
      "3.3411662578582764\n",
      "3.3848400115966797\n",
      "3.709115982055664\n",
      "2.9948854446411133\n",
      "3.6613972187042236\n",
      "3.262345552444458\n",
      "3.1097981929779053\n",
      "3.5672171115875244\n",
      "3.6644136905670166\n",
      "5.074944496154785\n",
      "4.3085808753967285\n",
      "3.9409687519073486\n",
      "4.057883262634277\n",
      "4.098799228668213\n",
      "3.9224531650543213\n",
      "3.8839926719665527\n",
      "3.8374617099761963\n",
      "3.960700273513794\n",
      "3.2526602745056152\n",
      "3.6615002155303955\n",
      "3.3854002952575684\n",
      "4.445688724517822\n",
      "3.9048891067504883\n",
      "4.0074543952941895\n",
      "4.312897205352783\n",
      "4.868769645690918\n",
      "3.73227596282959\n",
      "3.3195672035217285\n",
      "3.1118967533111572\n",
      "3.4657344818115234\n",
      "4.744796276092529\n",
      "5.758242607116699\n",
      "5.153838157653809\n",
      "4.3884382247924805\n",
      "3.840792655944824\n",
      "4.164825916290283\n",
      "4.264426231384277\n",
      "4.536859512329102\n",
      "6.049555778503418\n",
      "3.823455810546875\n",
      "2.874565839767456\n",
      "4.5299787521362305\n",
      "5.281388759613037\n",
      "4.440554141998291\n",
      "4.524055480957031\n",
      "2.9739890098571777\n",
      "4.458472728729248\n",
      "4.254965305328369\n",
      "4.049671173095703\n",
      "3.7610325813293457\n",
      "3.4798412322998047\n",
      "4.191813945770264\n",
      "3.6855123043060303\n",
      "4.767877578735352\n",
      "4.324853420257568\n",
      "4.485143661499023\n",
      "4.686762809753418\n",
      "5.515408992767334\n",
      "4.4429426193237305\n",
      "6.237270355224609\n",
      "5.089172840118408\n",
      "4.996890068054199\n",
      "6.014956474304199\n",
      "4.420475482940674\n",
      "4.18350887298584\n",
      "4.987964153289795\n",
      "5.348925590515137\n",
      "4.648369789123535\n",
      "4.381778717041016\n",
      "4.030151844024658\n",
      "4.733868598937988\n",
      "4.842916011810303\n",
      "5.0905327796936035\n",
      "5.821821212768555\n",
      "5.431950092315674\n",
      "4.126955986022949\n",
      "4.969402313232422\n",
      "4.7997636795043945\n",
      "5.561999797821045\n",
      "4.46173095703125\n",
      "5.824105262756348\n",
      "5.346550464630127\n",
      "7.143195629119873\n",
      "5.33357572555542\n",
      "6.15054178237915\n",
      "6.082692623138428\n",
      "6.657148838043213\n",
      "7.116606712341309\n",
      "6.262162208557129\n",
      "5.894009590148926\n",
      "6.151679992675781\n",
      "4.840120315551758\n",
      "4.755023956298828\n",
      "4.293417453765869\n",
      "5.748701095581055\n",
      "4.802272319793701\n",
      "5.7729878425598145\n",
      "4.408279895782471\n",
      "5.227601051330566\n",
      "6.28937292098999\n",
      "6.952519416809082\n",
      "5.415140628814697\n",
      "5.463394641876221\n",
      "7.9051103591918945\n",
      "5.924647808074951\n",
      "8.641886711120605\n",
      "6.4999098777771\n",
      "5.268940448760986\n",
      "4.828423023223877\n",
      "4.839738368988037\n",
      "6.351311206817627\n",
      "8.255322456359863\n",
      "7.110843181610107\n",
      "7.533258438110352\n",
      "6.965977668762207\n",
      "7.590617656707764\n",
      "8.00778865814209\n",
      "6.171020030975342\n",
      "9.2483491897583\n",
      "6.019931793212891\n",
      "5.602456569671631\n",
      "6.86607551574707\n",
      "5.650707721710205\n",
      "6.076087474822998\n",
      "6.864469528198242\n",
      "5.269581317901611\n",
      "4.957071304321289\n",
      "5.868643283843994\n",
      "5.0779876708984375\n",
      "5.523684978485107\n",
      "4.985243797302246\n",
      "4.56047248840332\n",
      "7.313169479370117\n",
      "5.498568534851074\n",
      "5.883912086486816\n",
      "7.887270927429199\n",
      "5.317054748535156\n",
      "9.350564956665039\n",
      "7.893650531768799\n",
      "7.458781719207764\n",
      "9.848443031311035\n",
      "9.331496238708496\n",
      "9.198707580566406\n",
      "10.309436798095703\n",
      "8.946381568908691\n",
      "5.7164435386657715\n",
      "5.6648783683776855\n",
      "5.768876075744629\n",
      "6.617523193359375\n",
      "7.755828857421875\n",
      "7.983822345733643\n",
      "8.499804496765137\n",
      "7.921065330505371\n",
      "6.229466915130615\n",
      "6.7447686195373535\n",
      "7.143159866333008\n",
      "6.406084060668945\n",
      "7.562483310699463\n",
      "7.261035919189453\n",
      "6.232014179229736\n",
      "5.055403232574463\n",
      "4.023105621337891\n",
      "4.7057342529296875\n"
     ]
    }
   ],
   "source": [
    "lri =[]\n",
    "lossi =[]\n",
    "for i in range(1000):\n",
    "\n",
    "    #minibacth construct\n",
    "    ix = torch.randint(0,X.shape[0],(32,))\n",
    "    #forward pass\n",
    "    emb= C[X[ix]]\n",
    "    h= torch.tanh(emb.view(-1, 6) @ W1 + b1)\n",
    "    logits = h @ W2 + b2 \n",
    "    loss=F.cross_entropy(logits, Y[ix])\n",
    "    print(loss.item())\n",
    "    #backward pass\n",
    "    for p in parameters:\n",
    "        p.grad = None\n",
    "    loss.backward()\n",
    "    #update\n",
    "    lr = lrs[i]\n",
    "    for p in parameters:\n",
    "        p.data += -lr * p.grad\n",
    "\n",
    "    #track stats\n",
    "    lri.append(lre[i])\n",
    "    lossi.append(loss.item())\n",
    "\n",
    "#print(loss.item())\n",
    "# using the minibatchs the processig becomes really fast\n",
    "#but it also makes quality of our gradient lower\n",
    "#still its goo enough, still usefull, using this we might need more steps but it is faster\n"
   ]
  },
  {
   "cell_type": "code",
   "execution_count": 71,
   "id": "39a6b81d-d5bb-443f-a7f6-aeca6b102ee5",
   "metadata": {},
   "outputs": [
    {
     "data": {
      "text/plain": [
       "[<matplotlib.lines.Line2D at 0x1ace0138950>]"
      ]
     },
     "execution_count": 71,
     "metadata": {},
     "output_type": "execute_result"
    },
    {
     "data": {
      "image/png": "[encoded data removed]",
      "text/plain": [
       "<Figure size 640x480 with 1 Axes>"
      ]
     },
     "metadata": {},
     "output_type": "display_data"
    }
   ],
   "source": [
    "plt.plot(lri, lossi)"
   ]
  },
  {
   "cell_type": "code",
   "execution_count": 72,
   "id": "dd370d0b-bf24-4301-ba06-531fc04e5011",
   "metadata": {},
   "outputs": [],
   "source": [
    "# train - test - dev split"
   ]
  },
  {
   "cell_type": "code",
   "execution_count": 73,
   "id": "6361d903-1f4a-4760-b32b-a0b1baaedb62",
   "metadata": {},
   "outputs": [
    {
     "name": "stdout",
     "output_type": "stream",
     "text": [
      "torch.Size([182625, 3]) torch.Size([182625])\n",
      "torch.Size([22655, 3]) torch.Size([22655])\n",
      "torch.Size([22866, 3]) torch.Size([22866])\n"
     ]
    }
   ],
   "source": [
    "# build the dataset\n",
    "block_size = 3 # context length: how many characters do we take to predict the next one?\n",
    "\n",
    "def build_dataset(words):  \n",
    "  X, Y = [], []\n",
    "  for w in words:\n",
    "\n",
    "    #print(w)\n",
    "    context = [0] * block_size\n",
    "    for ch in w + '.':\n",
    "      ix = stoi[ch]\n",
    "      X.append(context)\n",
    "      Y.append(ix)\n",
    "      #print(''.join(itos[i] for i in context), '--->', itos[ix])\n",
    "      context = context[1:] + [ix] # crop and append\n",
    "\n",
    "  X = torch.tensor(X)\n",
    "  Y = torch.tensor(Y)\n",
    "  print(X.shape, Y.shape)\n",
    "  return X, Y\n",
    "\n",
    "import random\n",
    "random.seed(42)\n",
    "random.shuffle(words)\n",
    "n1 = int(0.8*len(words))\n",
    "n2 = int(0.9*len(words))\n",
    "\n",
    "Xtr, Ytr = build_dataset(words[:n1])\n",
    "Xdev, Ydev = build_dataset(words[n1:n2])\n",
    "Xte, Yte = build_dataset(words[n2:])"
   ]
  },
  {
   "cell_type": "code",
   "execution_count": 74,
   "id": "c638c61e-2337-473f-9859-3af9908d1796",
   "metadata": {},
   "outputs": [
    {
     "data": {
      "text/plain": [
       "(torch.Size([182625, 3]), torch.Size([182625]))"
      ]
     },
     "execution_count": 74,
     "metadata": {},
     "output_type": "execute_result"
    }
   ],
   "source": [
    "Xtr.shape, Ytr.shape"
   ]
  },
  {
   "cell_type": "code",
   "execution_count": 75,
   "id": "41213c01-1a72-4e3e-b64f-73653ceb5a08",
   "metadata": {},
   "outputs": [],
   "source": [
    "#resetting everything again\n",
    "g = torch.Generator().manual_seed(2147483647) # for reproducibility\n",
    "C = torch.randn((27, 2), generator=g)\n",
    "W1 = torch.randn((6, 100), generator=g)\n",
    "b1 = torch.randn(100, generator=g)\n",
    "W2 = torch.randn((100, 27), generator=g)\n",
    "b2 = torch.randn(27, generator=g)\n",
    "parameters = [C, W1, b1, W2, b2]"
   ]
  },
  {
   "cell_type": "code",
   "execution_count": 76,
   "id": "cdb9d737-9c2b-4eb8-9c32-8f27337cc902",
   "metadata": {},
   "outputs": [
    {
     "data": {
      "text/plain": [
       "3481"
      ]
     },
     "execution_count": 76,
     "metadata": {},
     "output_type": "execute_result"
    }
   ],
   "source": [
    "sum(p.nelement() for p in parameters) \n",
    "#number of parameters in total"
   ]
  },
  {
   "cell_type": "code",
   "execution_count": 77,
   "id": "478992f2-f817-45b5-ac3a-cdea22101b67",
   "metadata": {},
   "outputs": [],
   "source": [
    "for p in parameters:\n",
    "    p.requires_grad = True"
   ]
  },
  {
   "cell_type": "code",
   "execution_count": 78,
   "id": "6789fed1-6a40-41b9-93d9-0dff98998167",
   "metadata": {},
   "outputs": [],
   "source": [
    "lre = torch.linspace(-3, 0, 1000)\n",
    "lrs = 10**lre\n"
   ]
  },
  {
   "cell_type": "code",
   "execution_count": 79,
   "id": "99f822f9-8d3b-4b56-8649-5d46b503b74d",
   "metadata": {},
   "outputs": [
    {
     "name": "stdout",
     "output_type": "stream",
     "text": [
      "2.959591865539551\n"
     ]
    }
   ],
   "source": [
    "lri =[]\n",
    "lossi =[]\n",
    "for i in range(1000):\n",
    "\n",
    "    #minibacth construct\n",
    "    ix = torch.randint(0,Xtr.shape[0],(32,))\n",
    "    #forward pass\n",
    "    emb= C[Xtr[ix]]\n",
    "    h= torch.tanh(emb.view(-1, 6) @ W1 + b1)\n",
    "    logits = h @ W2 + b2 \n",
    "    loss=F.cross_entropy(logits, Ytr[ix])\n",
    "    #print(loss.item())\n",
    "    #backward pass\n",
    "    for p in parameters:\n",
    "        p.grad = None\n",
    "    loss.backward()\n",
    "    #update\n",
    "    #lr = lrs[i]\n",
    "    lr = 0.01\n",
    "    for p in parameters:\n",
    "        p.data += -lr * p.grad\n",
    "\n",
    "    #track stats\n",
    "    lri.append(lre[i])\n",
    "    lossi.append(loss.item())\n",
    "\n",
    "print(loss.item())\n",
    "# using the minibatchs the processig becomes really fast\n",
    "#but it also makes quality of our gradient lower\n",
    "#still its goo enough, still usefull, using this we might need more steps but it is faster\n"
   ]
  },
  {
   "cell_type": "code",
   "execution_count": 80,
   "id": "e2b9ade4-0490-4b0c-8652-32a3d95e0aab",
   "metadata": {},
   "outputs": [
    {
     "data": {
      "text/plain": [
       "tensor(3.6055, grad_fn=<NllLossBackward0>)"
      ]
     },
     "execution_count": 80,
     "metadata": {},
     "output_type": "execute_result"
    }
   ],
   "source": [
    "emb= C[Xdev]\n",
    "h= torch.tanh(emb.view(-1, 6) @ W1 + b1)\n",
    "logits = h @ W2 + b2 \n",
    "loss=F.cross_entropy(logits, Ydev)\n",
    "loss"
   ]
  },
  {
   "cell_type": "code",
   "execution_count": 81,
   "id": "cb150d17-16f9-4fa9-be76-fa6773ecaee1",
   "metadata": {},
   "outputs": [],
   "source": [
    "#larger hidden layer"
   ]
  },
  {
   "cell_type": "code",
   "execution_count": 82,
   "id": "2126862a-d9c1-4761-b370-ab40a507f133",
   "metadata": {},
   "outputs": [],
   "source": [
    "g = torch.Generator().manual_seed(2147483647) # for reproducibility\n",
    "C = torch.randn((27, 2), generator=g)\n",
    "W1 = torch.randn((6, 300), generator=g)\n",
    "b1 = torch.randn(300, generator=g)\n",
    "W2 = torch.randn((300, 27), generator=g)\n",
    "b2 = torch.randn(27, generator=g)\n",
    "parameters = [C, W1, b1, W2, b2]"
   ]
  },
  {
   "cell_type": "code",
   "execution_count": 83,
   "id": "2c0d33e1-9245-49c3-bf11-6919e25f06f2",
   "metadata": {},
   "outputs": [
    {
     "data": {
      "text/plain": [
       "10281"
      ]
     },
     "execution_count": 83,
     "metadata": {},
     "output_type": "execute_result"
    }
   ],
   "source": [
    "sum(p.nelement() for p in parameters) \n",
    "#number of parameters in total"
   ]
  },
  {
   "cell_type": "code",
   "execution_count": 84,
   "id": "dee78e17-f87c-4d14-8bbb-444249bbd15b",
   "metadata": {},
   "outputs": [],
   "source": [
    "for p in parameters:\n",
    "    p.requires_grad = True"
   ]
  },
  {
   "cell_type": "code",
   "execution_count": 85,
   "id": "7c75f964-917e-444c-bb05-5f484274e45a",
   "metadata": {},
   "outputs": [],
   "source": [
    "lre = torch.linspace(-3, 0, 1000)\n",
    "lrs = 10**lre"
   ]
  },
  {
   "cell_type": "code",
   "execution_count": 86,
   "id": "d76cd42a-c79f-48b0-99d6-1c924883d1dd",
   "metadata": {},
   "outputs": [
    {
     "name": "stdout",
     "output_type": "stream",
     "text": [
      "2.565969944000244\n"
     ]
    }
   ],
   "source": [
    "lri =[]\n",
    "lossi =[]\n",
    "stepi = []\n",
    "for i in range(30000):\n",
    "\n",
    "    #minibacth construct\n",
    "    ix = torch.randint(0,Xtr.shape[0],(32,))\n",
    "    #forward pass\n",
    "    emb= C[Xtr[ix]]\n",
    "    h= torch.tanh(emb.view(-1, 6) @ W1 + b1)\n",
    "    logits = h @ W2 + b2 \n",
    "    loss=F.cross_entropy(logits, Ytr[ix])\n",
    "    #print(loss.item())\n",
    "    #backward pass\n",
    "    for p in parameters:\n",
    "        p.grad = None\n",
    "    loss.backward()\n",
    "    #update\n",
    "    #lr = lrs[i]\n",
    "    lr = 0.01\n",
    "    for p in parameters:\n",
    "        p.data += -lr * p.grad\n",
    "\n",
    "    #track stats\n",
    "    #lri.append(lre[i])\n",
    "    stepi.append(i)\n",
    "    lossi.append(loss.item())\n",
    "\n",
    "print(loss.item())\n",
    "# using the minibatchs the processig becomes really fast\n",
    "#but it also makes quality of our gradient lower\n",
    "#still its goo enough, still usefull, using this we might need more steps but it is faster\n"
   ]
  },
  {
   "cell_type": "code",
   "execution_count": 87,
   "id": "12d9ed81-ae04-46cc-ae14-74c7b14e8d5c",
   "metadata": {},
   "outputs": [
    {
     "data": {
      "text/plain": [
       "[<matplotlib.lines.Line2D at 0x1ace5db1150>]"
      ]
     },
     "execution_count": 87,
     "metadata": {},
     "output_type": "execute_result"
    },
    {
     "data": {
      "image/png": "[encoded data removed]",
      "text/plain": [
       "<Figure size 640x480 with 1 Axes>"
      ]
     },
     "metadata": {},
     "output_type": "display_data"
    }
   ],
   "source": [
    "plt.plot(stepi, lossi)"
   ]
  },
  {
   "cell_type": "code",
   "execution_count": 88,
   "id": "ac997595-bf9f-446c-b5d5-085d402ddcec",
   "metadata": {},
   "outputs": [
    {
     "data": {
      "text/plain": [
       "tensor(2.4425, grad_fn=<NllLossBackward0>)"
      ]
     },
     "execution_count": 88,
     "metadata": {},
     "output_type": "execute_result"
    }
   ],
   "source": [
    "emb= C[Xdev]\n",
    "h= torch.tanh(emb.view(-1, 6) @ W1 + b1)\n",
    "logits = h @ W2 + b2 \n",
    "loss=F.cross_entropy(logits, Ydev)\n",
    "loss"
   ]
  },
  {
   "cell_type": "code",
   "execution_count": 89,
   "id": "24902262-df62-4cdd-af2d-118934bf863f",
   "metadata": {},
   "outputs": [
    {
     "data": {
      "image/png": "[encoded data removed]",
      "text/plain": [
       "<Figure size 800x800 with 1 Axes>"
      ]
     },
     "metadata": {},
     "output_type": "display_data"
    }
   ],
   "source": [
    "# visualize dimensions 0 and 1 of the embedding matrix C for all characters\n",
    "plt.figure(figsize=(8,8))\n",
    "plt.scatter(C[:,0].data, C[:,1].data, s=200)\n",
    "for i in range(C.shape[0]):\n",
    "    plt.text(C[i,0].item(), C[i,1].item(), itos[i], ha=\"center\", va=\"center\", color='white')\n",
    "plt.grid('minor')"
   ]
  },
  {
   "cell_type": "code",
   "execution_count": 90,
   "id": "bdff3aea-58a7-4501-b199-517b9cbe6290",
   "metadata": {},
   "outputs": [],
   "source": [
    "# larger embedding size"
   ]
  },
  {
   "cell_type": "code",
   "execution_count": 91,
   "id": "8fa1edf0-c149-40dc-aea6-85a2391e0608",
   "metadata": {},
   "outputs": [],
   "source": [
    "g = torch.Generator().manual_seed(2147483647) # for reproducibility\n",
    "C = torch.randn((27, 10), generator=g) # we have 10 dimensional embeddings instead of 2 now\n",
    "W1 = torch.randn((30, 200), generator=g)\n",
    "b1 = torch.randn(200, generator=g)\n",
    "W2 = torch.randn((200, 27), generator=g)\n",
    "b2 = torch.randn(27, generator=g)\n",
    "parameters = [C, W1, b1, W2, b2]"
   ]
  },
  {
   "cell_type": "code",
   "execution_count": 92,
   "id": "3e2ed70f-2499-4f85-b7cd-a3ffb1f9be10",
   "metadata": {},
   "outputs": [
    {
     "data": {
      "text/plain": [
       "11897"
      ]
     },
     "execution_count": 92,
     "metadata": {},
     "output_type": "execute_result"
    }
   ],
   "source": [
    "sum(p.nelement() for p in parameters) \n",
    "#number of parameters in total"
   ]
  },
  {
   "cell_type": "code",
   "execution_count": 93,
   "id": "d6723c6a-a10e-415d-b84d-664d4aa6554d",
   "metadata": {},
   "outputs": [],
   "source": [
    "for p in parameters:\n",
    "    p.requires_grad = True"
   ]
  },
  {
   "cell_type": "code",
   "execution_count": 94,
   "id": "afa02485-7382-4187-a888-9ad0b3642f28",
   "metadata": {},
   "outputs": [],
   "source": [
    "lre = torch.linspace(-3, 0, 1000)\n",
    "lrs = 10**lre"
   ]
  },
  {
   "cell_type": "code",
   "execution_count": 95,
   "id": "8232c70d-1f2b-403a-a61b-967527ec3558",
   "metadata": {},
   "outputs": [],
   "source": [
    "lri =[]\n",
    "lossi =[]\n",
    "stepi = []"
   ]
  },
  {
   "cell_type": "code",
   "execution_count": 124,
   "id": "85b89177-183d-4df1-8d1c-48f0056556fd",
   "metadata": {},
   "outputs": [
    {
     "name": "stdout",
     "output_type": "stream",
     "text": [
      "2.1567320823669434\n"
     ]
    }
   ],
   "source": [
    "\n",
    "for i in range(50000):\n",
    "\n",
    "    #minibacth construct\n",
    "    ix = torch.randint(0,Xtr.shape[0],(32,))\n",
    "    #forward pass\n",
    "    emb= C[Xtr[ix]]\n",
    "    h= torch.tanh(emb.view(-1, 30) @ W1 + b1)\n",
    "    logits = h @ W2 + b2 \n",
    "    loss=F.cross_entropy(logits, Ytr[ix])\n",
    "    #print(loss.item())\n",
    "    #backward pass\n",
    "    for p in parameters:\n",
    "        p.grad = None\n",
    "    loss.backward()\n",
    "    #update\n",
    "    #lr = lrs[i]\n",
    "    lr = 0.01\n",
    "    for p in parameters:\n",
    "        p.data += -lr * p.grad\n",
    "\n",
    "    #track stats\n",
    "    #lri.append(lre[i])\n",
    "    stepi.append(i)\n",
    "    lossi.append(loss.log10().item())\n",
    "\n",
    "print(loss.item())\n",
    "# using the minibatchs the processig becomes really fast\n",
    "#but it also makes quality of our gradient lower\n",
    "#still its goo enough, still usefull, using this we might need more steps but it is faster\n"
   ]
  },
  {
   "cell_type": "code",
   "execution_count": 125,
   "id": "162a8b82-32fa-455d-a717-999cbd9b8acf",
   "metadata": {},
   "outputs": [
    {
     "data": {
      "text/plain": [
       "[<matplotlib.lines.Line2D at 0x1acf01a0c90>]"
      ]
     },
     "execution_count": 125,
     "metadata": {},
     "output_type": "execute_result"
    },
    {
     "data": {
      "image/png": "[encoded data removed]",
      "text/plain": [
       "<Figure size 640x480 with 1 Axes>"
      ]
     },
     "metadata": {},
     "output_type": "display_data"
    }
   ],
   "source": [
    "plt.plot(stepi, lossi)"
   ]
  },
  {
   "cell_type": "code",
   "execution_count": 126,
   "id": "f7258b39-2cbb-4c55-9c0c-f6ab2fa5dff3",
   "metadata": {},
   "outputs": [
    {
     "data": {
      "text/plain": [
       "tensor(2.1805, grad_fn=<NllLossBackward0>)"
      ]
     },
     "execution_count": 126,
     "metadata": {},
     "output_type": "execute_result"
    }
   ],
   "source": [
    "emb= C[Xdev]\n",
    "h= torch.tanh(emb.view(-1, 30) @ W1 + b1)\n",
    "logits = h @ W2 + b2 \n",
    "loss=F.cross_entropy(logits, Ydev)\n",
    "loss"
   ]
  },
  {
   "cell_type": "code",
   "execution_count": 127,
   "id": "218c5276-50ec-464a-af64-19abca7ed8a8",
   "metadata": {},
   "outputs": [
    {
     "name": "stdout",
     "output_type": "stream",
     "text": [
      "mora.\n",
      "amyah.\n",
      "see.\n",
      "madhonaley.\n",
      "threthagrami.\n",
      "azeredieliigh.\n",
      "parelle.\n",
      "elieananaraelyn.\n",
      "malaia.\n",
      "noshir.\n",
      "rishiriel.\n",
      "kindreelle.\n",
      "jathustous.\n",
      "kavder.\n",
      "yah.\n",
      "fael.\n",
      "yuma.\n",
      "masteyah.\n",
      "hal.\n",
      "aalynn.\n"
     ]
    }
   ],
   "source": [
    "# sample from the model\n",
    "g = torch.Generator().manual_seed(2147483647 + 10)\n",
    "\n",
    "for _ in range(20):\n",
    "    \n",
    "    out = []\n",
    "    context = [0] * block_size # initialize with all ...\n",
    "    while True:\n",
    "      emb = C[torch.tensor([context])] # (1,block_size,d)\n",
    "      h = torch.tanh(emb.view(1, -1) @ W1 + b1)\n",
    "      logits = h @ W2 + b2\n",
    "      probs = F.softmax(logits, dim=1)\n",
    "      ix = torch.multinomial(probs, num_samples=1, generator=g).item()\n",
    "      context = context[1:] + [ix]\n",
    "      out.append(ix)\n",
    "      if ix == 0:\n",
    "        break\n",
    "    \n",
    "    print(''.join(itos[i] for i in out))"
   ]
  },
  {
   "cell_type": "markdown",
   "id": "121ff08f-f2e9-4856-a4fc-41634aecef6f",
   "metadata": {},
   "source": [
    "# for calculating average similarity between generated and original names"
   ]
  },
  {
   "cell_type": "code",
   "execution_count": 121,
   "id": "b522a98b-8d2e-45c8-9cc2-3d88074de2f2",
   "metadata": {},
   "outputs": [
    {
     "name": "stdout",
     "output_type": "stream",
     "text": [
      "['mona', 'mayanniee', 'medhayla', 'revers', 'bjd', 'leg', 'adelyn', 'elin', 'shy', 'jen']\n"
     ]
    }
   ],
   "source": [
    "# sample from the model\n",
    "g = torch.Generator().manual_seed(2147483647 + 10)\n",
    "generated_names = []\n",
    "for _ in range(100):\n",
    "    \n",
    "    out = []\n",
    "    context = [0] * block_size  # initialize with all ...\n",
    "    while True:\n",
    "      emb = C[torch.tensor([context])]  # (1, block_size, d)\n",
    "      h = torch.tanh(emb.view(1, -1) @ W1 + b1)\n",
    "      logits = h @ W2 + b2\n",
    "      probs = F.softmax(logits, dim=1)\n",
    "      ix = torch.multinomial(probs, num_samples=1, generator=g).item()\n",
    "      context = context[1:] + [ix]\n",
    "      out.append(ix)\n",
    "      if ix == 0:\n",
    "        break\n",
    "    \n",
    "    # Fix here: Convert integer indices in 'out' to corresponding characters using 'itos'\n",
    "    generated_name = ''.join(itos[i] for i in out).strip('.')  # Map indices to chars, remove trailing '.'\n",
    "    generated_names.append(generated_name)\n",
    "\n",
    "# Print some generated names to verify\n",
    "print(generated_names[:10])\n"
   ]
  },
  {
   "cell_type": "code",
   "execution_count": 122,
   "id": "61633d93-4a50-4a8c-800e-fefda94addb5",
   "metadata": {},
   "outputs": [],
   "source": [
    "# Load generated names into a DataFrame\n",
    "import pandas as pd\n",
    "df_generated = pd.DataFrame(generated_names, columns=['Generated_Name'])"
   ]
  },
  {
   "cell_type": "code",
   "execution_count": 123,
   "id": "e7698b53-5f80-43d8-ad93-9c902369f902",
   "metadata": {},
   "outputs": [
    {
     "name": "stdout",
     "output_type": "stream",
     "text": [
      "  Generated_Name  Similarity_Score\n",
      "0           mona          1.000000\n",
      "1      mayanniee          0.666667\n",
      "2       medhayla          0.750000\n",
      "3         revers          0.833333\n",
      "4            bjd          0.750000\n",
      "\n",
      "Average Similarity Score for 100 generated names: 0.7996\n"
     ]
    }
   ],
   "source": [
    "# Define a function to find the maximum similarity score for a generated name\n",
    "def find_max_similarity(generated_name, name_list):\n",
    "    min_distance = float('inf')\n",
    "    \n",
    "    for name in name_list:\n",
    "        distance = Levenshtein.distance(generated_name, name)\n",
    "        if distance < min_distance:\n",
    "            min_distance = distance\n",
    "            \n",
    "    similarity_score = 1 - min_distance / max(len(generated_name), len(name_list[0]))\n",
    "    return similarity_score\n",
    "\n",
    "# Calculate similarity for each generated name\n",
    "similarity_scores = []\n",
    "for gen_name in generated_names:\n",
    "    similarity = find_max_similarity(gen_name, original_names)\n",
    "    similarity_scores.append(similarity)\n",
    "\n",
    "# Add similarity scores to the DataFrame\n",
    "df_generated['Similarity_Score'] = similarity_scores\n",
    "\n",
    "# Calculate the average similarity score\n",
    "average_similarity_score = sum(similarity_scores) / len(similarity_scores)\n",
    "\n",
    "# Print the DataFrame and the average similarity score\n",
    "print(df_generated.head())\n",
    "print(f\"\\nAverage Similarity Score for 100 generated names: {average_similarity_score:.4f}\")"
   ]
  },
  {
   "cell_type": "code",
   "execution_count": null,
   "id": "5825b668-bda5-4885-8738-7123fc1a0984",
   "metadata": {},
   "outputs": [],
   "source": []
  },
  {
   "cell_type": "code",
   "execution_count": null,
   "id": "c3ecde1c-b3fd-4cd8-8223-4ee6eb6a897b",
   "metadata": {},
   "outputs": [],
   "source": []
  }
 ],
 "metadata": {
  "kernelspec": {
   "display_name": "Python 3 (ipykernel)",
   "language": "python",
   "name": "python3"
  },
  "language_info": {
   "codemirror_mode": {
    "name": "ipython",
    "version": 3
   },
   "file_extension": ".py",
   "mimetype": "text/x-python",
   "name": "python",
   "nbconvert_exporter": "python",
   "pygments_lexer": "ipython3",
   "version": "3.11.6"
  }
 },
 "nbformat": 4,
 "nbformat_minor": 5
}
